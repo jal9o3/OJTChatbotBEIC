{
 "cells": [
  {
   "cell_type": "code",
   "execution_count": 2,
   "metadata": {},
   "outputs": [],
   "source": [
    "import mysql.connector"
   ]
  },
  {
   "cell_type": "code",
   "execution_count": 5,
   "metadata": {},
   "outputs": [
    {
     "name": "stdout",
     "output_type": "stream",
     "text": [
      "Host: 127.0.0.1\n",
      "Database Username: root\n"
     ]
    }
   ],
   "source": [
    "# database username and password input\n",
    "host = input(\"Enter database host (if blank, defaults to 127.0.0.1):\")\n",
    "if host == \"\":\n",
    "    host = \"127.0.0.1\"\n",
    "print(f\"Host: {host}\")\n",
    "\n",
    "username = input(\"Enter your database username (if blank, defaults to root): \")\n",
    "if username == \"\":\n",
    "    username = \"root\"\n",
    "print(f\"Database Username: {username}\")\n",
    "\n",
    "password = input(\"Enter your database password: \")"
   ]
  },
  {
   "cell_type": "markdown",
   "metadata": {},
   "source": [
    "# Initial Connection and Creating Database"
   ]
  },
  {
   "cell_type": "code",
   "execution_count": 6,
   "metadata": {},
   "outputs": [],
   "source": [
    "text_db = mysql.connector.connect(\n",
    "    host=host,\n",
    "    user=username,\n",
    "    password=password,\n",
    ")"
   ]
  },
  {
   "cell_type": "code",
   "execution_count": 7,
   "metadata": {},
   "outputs": [],
   "source": [
    "mycursor = text_db.cursor()"
   ]
  },
  {
   "cell_type": "code",
   "execution_count": 8,
   "metadata": {},
   "outputs": [],
   "source": [
    "mycursor.execute(\"CREATE DATABASE text_database\")"
   ]
  },
  {
   "cell_type": "code",
   "execution_count": 9,
   "metadata": {},
   "outputs": [
    {
     "name": "stdout",
     "output_type": "stream",
     "text": [
      "('information_schema',)\n",
      "('mysql',)\n",
      "('performance_schema',)\n",
      "('sakila',)\n",
      "('sys',)\n",
      "('text_database',)\n",
      "('world',)\n"
     ]
    }
   ],
   "source": [
    "mycursor.execute(\"SHOW DATABASES\")\n",
    "for x in mycursor:\n",
    "    print(x)"
   ]
  },
  {
   "cell_type": "markdown",
   "metadata": {},
   "source": [
    "# Connecting to Database"
   ]
  },
  {
   "cell_type": "code",
   "execution_count": 10,
   "metadata": {},
   "outputs": [],
   "source": [
    "text_db = mysql.connector.connect(\n",
    "    host=host,\n",
    "    user=username,\n",
    "    password=password,\n",
    "    database=\"text_database\"\n",
    ")"
   ]
  },
  {
   "cell_type": "code",
   "execution_count": 12,
   "metadata": {},
   "outputs": [],
   "source": [
    "mycursor = text_db.cursor()"
   ]
  },
  {
   "cell_type": "code",
   "execution_count": 13,
   "metadata": {},
   "outputs": [
    {
     "name": "stdout",
     "output_type": "stream",
     "text": [
      "('texts',)\n"
     ]
    }
   ],
   "source": [
    "mycursor.execute(\"CREATE TABLE texts (id INT AUTO_INCREMENT PRIMARY KEY, context VARCHAR(255))\")\n",
    "mycursor.execute(\"SHOW TABLES\")\n",
    "for x in mycursor:\n",
    "    print(x)"
   ]
  },
  {
   "cell_type": "code",
   "execution_count": 15,
   "metadata": {},
   "outputs": [
    {
     "name": "stdout",
     "output_type": "stream",
     "text": [
      "c:\\Users\\USER\\Documents\\OJTChatbotBEIC\\MySQL\n"
     ]
    }
   ],
   "source": [
    "import os\n",
    "print(os.getcwd())"
   ]
  },
  {
   "cell_type": "code",
   "execution_count": 18,
   "metadata": {},
   "outputs": [],
   "source": [
    "# Read the entire file content\n",
    "with open('../Tesseract/Extracted.txt', 'r', encoding=\"utf-8\", errors='ignore') as file:\n",
    "    file_content = file.read()\n",
    "\n",
    "# Split the content into smaller strings (up to 255 characters)\n",
    "max_length = 255\n",
    "split_content = [file_content[i:i + max_length] for i in range(0, len(file_content), max_length)]\n",
    "\n",
    "# Insert each smaller string into the database\n",
    "query = \"INSERT INTO texts (context) VALUES (%s)\"\n",
    "for content in split_content:\n",
    "    mycursor.execute(query, (content,))"
   ]
  },
  {
   "cell_type": "code",
   "execution_count": 19,
   "metadata": {},
   "outputs": [],
   "source": [
    "# Commit the changes\n",
    "text_db.commit()"
   ]
  },
  {
   "cell_type": "code",
   "execution_count": 20,
   "metadata": {},
   "outputs": [
    {
     "name": "stdout",
     "output_type": "stream",
     "text": [
      "(1, '--- Page 1 ---\\n Copyright 1971, 1999 by the President and Fellows of Harvard College\\n\\nA THEORY OF JUSTICE\\n\\n\\n--- Page 2 ---\\n Copyright 1971, 1999 by the President and Fellows of Harvard College\\n\\n\\n--- Page 3 ---\\nCopyright 1971, 1999 by the President and Fel')\n",
      "(2, 'lows of Harvard College\\n\\nA THEORY OF JUSTICE\\nRevised Edition\\n\\nJOHN RAWLS\\n\\nTHE BELKNAP PRESS OF\\nHARVARD UNIVERSITY PRESS\\nCAMBRIDGE, MASSACHUSETTS\\n\\n\\n--- Page 4 ---\\n Copyright 1971, 1999 by the President and Fellows of Harvard College\\n\\n Copyright 1971, 1999 ')\n",
      "(3, 'by the President and Fellows of Harvard College\\nAll rights reserved\\nPrinted in the United States of America\\n\\nThis book is a revised edition of A Theory of Justice,\\npublished in 1971 by Harvard University Press.\\n\\nLibrary of Congress Cataloging-in-Publicati')\n",
      "(4, \"on Data\\n\\nRawls, John, 1921\\nA theory of justice / John Rawls.  Rev. ed.\\np. cm.\\n\\nIncludes bibliographical references and index.\\nISBN 0-674-00077-3 (cloth : alk. paper). \\nISBN 0-674-00078-1 (paper : alk. paper)\\n\\n1. Justice. I. Title.\\n\\nJC578.R38 1999\\n320'.01'\")\n",
      "(5, '1dce21 99-29110\\n\\n\\n--- Page 5 ---\\n Copyright 1971, 1999 by the President and Fellows of Harvard College\\n\\nFor Mard\\n\\n\\n--- Page 6 ---\\n Copyright 1971, 1999 by the President and Fellows of Harvard College\\n\\nCONTENTS\\n\\nPREFACE FOR THE REVISED EDITION _ xi\\n\\nPREFAC')\n",
      "(6, 'E _ xvii\\n\\nPart One. Theory\\n\\nCHAPTER I. JUSTICE AS FAIRNESS 3\\n\\n. The Role of Justice 3\\n\\n. The Subject of Justice 6\\n\\n. The Main Idea of the Theory of Justice 10\\n. The Original Position and Justification 15\\n. Classical Utilitarianism 19\\n\\n. Some Related Contr')\n",
      "(7, 'asts 24\\n\\n. Intuitionism 30\\n\\n. The Priority Problem 36\\n\\n. Some Remarks about Moral Theory 40\\n\\nCONDARwWHY\\n\\nCHAPTER II. THE PRINCIPLES OF JUSTICE 47\\n\\n10. Institutions and Formal Justice 47\\n\\n11. Two Principles of Justice 52\\n\\n12. Interpretations of the Second ')\n",
      "(8, 'Principle 57\\n\\n13. Democratic Equality and the Difference Principle 65\\n\\n14. Fair Equality of Opportunity and Pure Procedural Justice 73\\n15. Primary Social Goods as the Basis of Expectations 78\\n\\n16. Relevant Social Positions 81\\n\\n17. The Tendency to Equality')\n",
      "(9, ' 86\\n\\nvii\\n\\n\\n--- Page 7 ---\\n Copyright 1971, 1999 by the President and Fellows of Harvard College\\n\\nContents\\n\\n18. Principles for Individuals: The Principle of Fairness 93\\n19. Principles for Individuals: The Natural Duties 98\\n\\nCHAPTER III. THE ORIGINAL POSITI')\n",
      "(10, 'ON  102\\n\\n20. The Nature of the Argument for Conceptions of Justice 102\\n\\n21. The Presentation of Alternatives 105\\n22. The Circumstances of Justice 109\\n23. The Formal Constraints of the Concept of Right 112\\n\\n25. The Rationality of the Parties 123\\n\\n26. The R')\n",
      "(11, 'easoning Leading to the Two Principles of Justice 130\\n27. The Reasoning Leading to the Principle of Average Utility 139\\n28. Some Difficulties with the Average Principle 144\\n\\n29. Some Main Grounds for the Two Principles of Justice 153\\n\\n30. Classical Utilit')\n",
      "(12, 'arianism, Impartiality, and Benevolence 160\\n\\nTl\\nTl\\nTl\\n24. The Veil of Ignorance 118\\nTl\\nTl\\nTl\\nSi\\n\\nPart Two. Institutions\\n\\nCHAPTER IV. EQUAL LIBERTY 171\\n\\n31. The Four-Stage Sequence 171\\n\\n32. The Concept of Liberty 176\\n\\n33. Equal Liberty of Conscience 180\\n\\n3')\n",
      "(13, '4. Toleration and the Common Interest 186\\n\\n35. Toleration of the Intolerant 190\\n\\n36. Political Justice and the Constitution 194\\n\\n37. Limitations on the Principle of Participation 200\\n\\n38. The Rule of Law 206\\n\\n39. The Priority of Liberty Defined 214\\n\\n40. T')\n",
      "(14, 'he Kantian Interpretation of Justice as Fairness 221\\n\\nCHAPTER V. DISTRIBUTIVE SHARES = 228\\n\\n41. The Concept of Justice in Political Economy 228\\n42. Some Remarks about Economic Systems 234\\n43. Background Institutions for Distributive Justice 242\\n44. The Pr')\n",
      "(15, 'oblem of Justice between Generations 251\\n45. Time Preference 259\\n46. Further Cases of Priority 263\\n47. The Precepts of Justice 267\\n\\nLi\\n\\n48. Legitimate Expectations and Moral Desert 273\\n49. Comparison with Mixed Conceptions 277\\n50. The Principle of Perfect')\n",
      "(16, 'ion 285\\n\\nViii\\n\\n\\n--- Page 8 ---\\n Copyright 1971, 1999 by the President and Fellows of Harvard College\\n\\nContents\\n\\nCHAPTER VI. DUTY AND OBLIGATION = 293\\n\\n51. The Arguments for the Principles of Natural Duty 293\\n52. The Arguments for the Principle of Fairness')\n",
      "(17, ' 301\\n\\n53. The Duty to Comply with an Unjust Law 308\\n\\n54. The Status of Majority Rule 313\\n\\n55. The Definition of Civil Disobedience 319\\n\\n56. The Definition of Conscientious Refusal 323\\n\\n57. The Justification of Civil Disobedience 326\\n\\n58. The Justification')\n",
      "(18, ' of Conscientious Refusal 331\\n\\n59. The Role of Civil Disobedience 335\\n\\nPart Three. Ends\\n\\nCHAPTER VII. GOODNESS AS RATIONALITY = 347\\n\\n60. The Need for a Theory of the Good 347\\n\\n61. The Definition of Good for Simpler Cases 350\\n\\n62. A Note on Meaning 355\\n\\n63')\n",
      "(19, '. The Definition of Good for Plans of Life 358\\n\\n64. Deliberative Rationality 365\\n\\n65. The Aristotelian Principle 372\\n\\n66. The Definition of Good Applied to Persons 380\\n\\n67. Self-Respect, Excellences, and Shame 386\\n\\n68. Several Contrasts between the Right ')\n",
      "(20, 'and the Good 392\\n\\nCHAPTER VIII. THE SENSE OF JUSTICE 397\\n\\n69. The Concept of a Well-Ordered Society 397\\n\\n70. The Morality of Authority 405\\n\\n71. The Morality of Association 409\\n\\n72. The Morality of Principles 414\\n\\n73. Features of the Moral Sentiments 420\\n\\n')\n",
      "(21, '74. The Connection between Moral and Natural Attitudes 425\\n75. The Principles of Moral Psychology 429\\n\\n76. The Problem of Relative Stability 434\\n\\n77. The Basis of Equality 441\\n\\nCHAPTER IX. THE GOOD OF JUSTICE 450\\n\\n78. Autonomy and Objectivity 450\\n79. The ')\n",
      "(22, 'Idea of Social Union 456\\n80. The Problem of Envy 464\\n\\n81. Envy and Equality 468\\n\\nix\\n\\n\\n--- Page 9 ---\\n Copyright 1971, 1999 by the President and Fellows of Harvard College\\n\\nContents\\n\\n82. The Grounds for the Priority of Liberty 474\\n83. Happiness and Dominan')\n",
      "(23, 't Ends 480\\n\\n84. Hedonism as a Method of Choice 486\\n\\n85. The Unity of the Self 491\\n\\n86. The Good of the Sense of Justice 496\\n\\n87. Concluding Remarks on Justification 506\\n\\nConversion Table 517\\n\\nIndex 521\\n\\n\\n--- Page 10 ---\\n Copyright 1971, 1999 by the Presid')\n",
      "(24, 'ent and Fellows of Harvard College\\n\\nPREFACE FOR THE REVISED EDITION\\n\\nIt gives me great pleasure to provide this preface to the revised edition of\\nA Theory of Justice. Despite many criticisms of the original work, I still\\naccept its main outlines and defen')\n",
      "(25, 'd its central doctrines. Of course, I\\nwish, as one might expect, that I had done certain things differently, and I\\nwould now make a number of important revisions. But if I were writing A\\nTheory of Justice over again, I would not write, as authors sometime')\n",
      "(26, 's say,\\na completely different book.\\n\\nIn February and March of 1975 the original English text was consider-\\nably revised for the German edition of that year. To the best of my\\nknowledge these revisions have been included in all subsequent transla-\\ntions an')\n",
      "(27, 'd no further ones have been added since that time. All translations\\nhave, therefore, been made from the same revised text. Since this revised\\ntext includes what I believe are significant improvements, the translated\\neditions (provided accuracy is preserve')\n",
      "(28, 'd) until now have been superior to\\nthe original. This revised edition incorporates these improvements.\\n\\nBefore commenting on the more important revisions and why they\\nwere made, I will comment on the conception of justice presented in A\\nTheory of Justice,')\n",
      "(29, ' a conception I call justice as fairness. The central\\nideas and aims of this conception I see as those of a philosophical con-\\nception for a constitutional democracy. My hope is that justice as fairness\\nwill seem reasonable and useful, even if not fully c')\n",
      "(30, 'onvincing, to a wide\\nrange of thoughtful political opinions and thereby express an essential\\npart of the common core of the democratic tradition.\\n\\nThe central aims and ideas of that conception I refer to in the preface\\nto the first edition. As I explain i')\n",
      "(31, 'n the second and third paragraphs of that\\npreface, I wanted to work out a conception of justice that provides a\\nreasonably systematic alternative to utilitarianism, which in one form\\nor another has long dominated the Anglo-Saxon tradition of political\\ntho')\n",
      "(32, 'ught. The primary reason for wanting to find such an alternative is the\\nweakness, so I think, of utilitarian doctrine as a basis for the institutions\\n\\nxi\\n\\n\\n--- Page 11 ---\\n Copyright 1971, 1999 by the President and Fellows of Harvard College\\n\\nPreface for ')\n",
      "(33, 'the Revised Edition\\n\\nof constitutional democracy. In particular, I do not believe that utilitarian-\\nism can provide a satisfactory account of the basic rights and liberties of\\ncitizens as free and equal persons, a requirement of absolutely first im-\\nporta')\n",
      "(34, 'nce for an account of democratic institutions. I used a more general\\nand abstract rendering of the idea of the social contract by means of the\\nidea of the original position as a way to do that. A convincing account of\\nbasic rights and liberties, and of th')\n",
      "(35, 'eir priority, was the first objective of\\njustice as fairness. A second objective was to integrate that account with\\nan understanding of democratic equality, which led to the principle of fair\\nequality of opportunity and the difference principle.\\n\\nIn the r')\n",
      "(36, 'evisions I made in 1975 I removed certain weaknesses in the\\noriginal edition. These I shall now try to indicate, although I am afraid\\nmuch of what I say will not be intelligible without some prior knowledge\\nof the text. Leaving this concern aside, one of ')\n",
      "(37, 'the most serious weak-\\nnesses was in the account of liberty, the defects of which were pointed out\\nby H. L. A. Hart in his critical discussion of 1973. Beginning with 11, I\\nmade revisions to clear up several of the difficulties Hart noted. It must be\\nsaid')\n",
      "(38, ', however, that the account in the revised text, although considerably\\nimproved, is still not fully satisfactory. A better version is found in a later\\nessay of 1982 entitled The Basic Liberties and Their Priority. This\\nessay attempts to answer what I came')\n",
      "(39, ' to regard as Harts most important\\nobjections. The basic rights and liberties and their priority are there said\\nto guarantee equally for all citizens the social conditions essential for the\\nadequate development and the full and informed exercise of their ')\n",
      "(40, 'two\\nmoral powerstheir capacity for a sense of justice and their capacity for\\na conception of the goodin what I call the two fundamental cases. Very\\nbriefly, the first fundamental case is the application of the principles of\\njustice to the basic structure ')\n",
      "(41, 'of society by the exercise of citizens sense\\nof justice. The second fundamental case is the application of citizens\\npowers of practical reason and thought in forming, revising, and ratio-\\nnally pursuing their conception of the good. The equal political li')\n",
      "(42, 'berties,\\nincluding their fair value (an idea introduced in 36), and freedom of\\nthought, liberty of conscience, and freedom of association, are to insure\\n\\n1. For these two principles see 1214 of Chapter II. It is these two principles, and particularly\\nthe ')\n",
      "(43, 'difference principle, which give justice as fairness its liberal, or social democratic, character.\\n\\n2. See his Rawls on Liberty and Its Priority, University of Chicago Law Review, 40 (1973),\\npp. 534-555.\\n\\n3. See Tanner Lectures on Human Values (Salt Lake ')\n",
      "(44, 'City: University of Utah Press, 1982), vol. III,\\npp. 3-87, republished as Lecture VIII in John Rawls, Political Liberalism (New York: Columbia\\nUniversity Press, 1993).\\n\\nxii\\n\\n\\n--- Page 12 ---\\n Copyright 1971, 1999 by the President and Fellows of Harvard Co')\n",
      "(45, 'llege\\n\\nPreface for the Revised Edition\\n\\nthat the exercise of the moral powers can be free, informed, and effective\\nin these two cases. These changes in the account of liberty can, I think, fit\\ncomfortably within the framework of justice as fairness as fou')\n",
      "(46, 'nd in the\\nrevised text.\\n\\nA second serious weakness of the original edition was its account of\\nprimary goods. These were said to be things that rational persons want\\nwhatever else they want, and what these were and why was to be ex-\\nplained by the account ')\n",
      "(47, 'of goodness in Chapter VII. Unhappily that ac-\\ncount left it ambiguous whether somethings being a primary good de-\\npends solely on the natural facts of human psychology or whether it also\\ndepends on a moral conception of the person that embodies a certain')\n",
      "(48, '\\nideal. This ambiguity is to be resolved in favor of the latter: persons are to\\nbe viewed as having two moral powers (those mentioned above) and as\\nhaving higher-order interests in developing and exercising those powers.\\nPrimary goods are now characterize')\n",
      "(49, 'd as what persons need in their status\\nas free and equal citizens, and as normal and fully cooperating members\\nof society over a complete life. Interpersonal comparisons for purposes of\\npolitical justice are to be made in terms of citizens index of primar')\n",
      "(50, 'y\\ngoods and these goods are seen as answering to their needs as citizens as\\nopposed to their preferences and desires. Beginning with 15, I made\\nrevisions to convey this change of view, but these revisions fall short of\\nthe fuller statement I have given si')\n",
      "(51, 'nce in an essay, published in 1982,\\nentitled Social Unity and Primary Goods.* As with the changes in the\\naccount of the basic liberties, I think the changes required by that state-\\nment can be incorporated within the framework of the revised text.\\n\\nMany o')\n",
      "(52, 'ther revisions were made, especially in Chapter III and again,\\nthough fewer, in Chapter IV. In Chapter III I simply tried to make the\\nreasoning clearer and less open to misunderstanding. The revisions are\\ntoo numerous to note here, but they do not, I thin')\n",
      "(53, 'k, depart in any impor-\\ntant way from the view of the original edition. After Chapter IV there are\\nfew changes. I revised 44 in Chapter V on just savings, again trying to\\nmake it clearer; and I rewrote the first six paragraphs of 82 of Chapter\\nIX to corre')\n",
      "(54, 'ct a serious mistake in the argument for the priority of liberty;\\nand there are further changes in the rest of that section. Perhaps having\\nidentified what I regard as the two important changes, those in the ac-\\n\\n4. This essay appears in Utilitarianism an')\n",
      "(55, 'd Beyond, edited by Amartya Sen and Bernard Williams\\n(Cambridge: Cambridge University Press, 1982), pp. 159-185; also in John Rawls, Collected Papers,\\nedited by Samuel Freeman (Cambridge, Mass.: Harvard University Press, 1999, chap. 17, pp. 359-387.\\n\\n5. F')\n",
      "(56, 'or this mistake see Basic Liberties and Their Priority, ibid., n. 83, p. 87, or Political Liberal-\\nism, n. 84, p. 371.\\n\\nxiii\\n\\n\\n--- Page 13 ---\\n Copyright 1971, 1999 by the President and Fellows of Harvard College\\n\\nPreface for the Revised Edition\\n\\ncounts o')\n",
      "(57, 'f the basic liberties and of primary goods, these indications\\nsuffice to convey the nature and extent of the revisions.\\n\\nIf I were writing A Theory of Justice now, there are two things I would\\nhandle differently. One concerns how to present the argument f')\n",
      "(58, 'rom the\\noriginal position (see Chapter III) for the two principles of justice (see\\nChapter II). It would have been better to present it in terms of two\\ncomparisons. In the first parties would decide between the two principles\\nof justice, taken as a unit, ')\n",
      "(59, 'and the principle of (average) utility as the sole\\nprinciple of justice. In the second comparison, the parties would decide\\nbetween the two principles of justice and those same principles but for\\none important change: the principle of (average) utility is')\n",
      "(60, ' substituted for\\nthe difference principle. (The two principles after this substitution I called\\na mixed conception, and here it is understood that the principle of utility\\nis to be applied subject to the constraints of the prior principles: the\\nprinciple ')\n",
      "(61, 'of the equal liberties and the principle of fair equality of oppor-\\ntunity.) Using these two comparisons has the merit of separating the\\narguments for the equal basic liberties and their priority from the argu-\\nments for the difference principle itself. T')\n",
      "(62, 'he arguments for the equal\\nbasic liberties are at first glance much stronger, as those for the difference\\nprinciple involve a more delicate balance of considerations. The primary\\naim of justice as fairness is achieved once it is clear that the two princi-')\n",
      "(63, '\\nples would be adopted in the first comparison, or even in a third compari-\\nson in which the mixed conception of the second comparison is adopted\\nrather than the principle of utility. I continue to think the difference\\nprinciple important and would still ')\n",
      "(64, 'make the case for it, taking for granted\\n(as in the second comparison) an institutional background that satisfies\\nthe two preceding principles. But it is better to recognize that this case is\\nless evident and is unlikely ever to have the force of the argu')\n",
      "(65, 'ment for the\\ntwo prior principles.\\n\\nAnother revision I would now make is to distinguish more sharply the\\nidea of a property-owning democracy (introduced in Chapter V) from the\\nidea of a welfare state. These ideas are quite different, but since they\\nboth a')\n",
      "(66, 'llow private property in productive assets, we may be misled into\\nthinking them essentially the same. One major difference is that the\\nbackground institutions of property-owning democracy, with its system\\nof (workably) competitive markets, tries to disper')\n",
      "(67, 'se the ownership of\\nwealth and capital, and thus to prevent a small part of society from\\n\\n6. The term property-owning democracy, as well as some features of the idea, I borrowed from\\n\\nJ.E. Meade, Efficiency, Equality, and the Ownership of Property (London')\n",
      "(68, ': G. Allen & Unwin, 1964);\\nsee esp. Chapter V.\\n\\nxiv\\n\\n\\n--- Page 14 ---\\n Copyright 1971, 1999 by the President and Fellows of Harvard College\\n\\nPreface for the Revised Edition\\n\\ncontrolling the economy and indirectly political life itself. Property-own-\\ning d')\n",
      "(69, 'emocracy avoids this, not by redistributing income to those with less\\nat the end of each period, so to speak, but rather by ensuring the wide-\\nspread ownership of productive assets and human capital (educated abili-\\nties and trained skills) at the beginni')\n",
      "(70, 'ng of each period; all this against a\\nbackground of equal basic liberties and fair equality of opportunity. The\\nidea is not simply to assist those who lose out through accident or misfor-\\ntune (although this must be done), but instead to put all citizens ')\n",
      "(71, 'in a\\nposition to manage their own affairs and to take part in social cooperation\\non a footing of mutual respect under appropriately equal conditions.\\n\\nNote here two different conceptions of the aim of political institutions\\nover time. In a welfare state t')\n",
      "(72, 'he aim is that none should fall below a\\ndecent standard of life, and that all should receive certain protections\\nagainst accident and misfortunefor example, unemployment compen-\\nsation and medical care. The redistribution of income serves this purpose\\nwhe')\n",
      "(73, 'n, at the end of each period, those who need assistance can be iden-\\ntified. Such a system may allow large and inheritable inequities of wealth\\nincompatible with the fair value of the political liberties (introduced in\\n36), as well as large disparities of')\n",
      "(74, ' income that violate the difference\\nprinciple. While some effort is made to secure fair equality of opportu-\\nnity, it is either insufficient or else ineffective given the disparities of\\nwealth and the political influence they permit.\\n\\nBy contrast, in a pr')\n",
      "(75, 'operty-owning democracy the aim is to carry out\\nthe idea of society as a fair system of cooperation over time among\\ncitizens as free and equal persons. Thus, basic institutions must from the\\noutset put in the hands of citizens generally, and not only of a')\n",
      "(76, ' few, the\\nproductive means to be fully cooperating members of a society. The\\nemphasis falls on the steady dispersal over time of the ownership of\\ncapital and resources by the laws of inheritance and bequest, on fair\\nequality of opportunity secured by prov')\n",
      "(77, 'isions for education and training,\\nand the like, as well as on institutions that support the fair value of the\\npolitical liberties. To see the full force of the difference principle it should\\nbe taken in the context of property-owning democracy (or of a l')\n",
      "(78, 'iberal\\nsocialist regime) and not a welfare state: it is a principle of reciprocity, or\\nmutuality, for society seen as a fair system of cooperation among free and\\nequal citizens from one generation to the next.\\n\\nThe mention (a few lines back) of a liberal ')\n",
      "(79, 'socialist regime prompts\\nme to add that justice as fairness leaves open the question whether its\\nprinciples are best realized by some form of property-owning democracy\\nor by a liberal socialist regime. This question is left to be settled by\\n\\nXV\\n\\n\\n--- Page')\n",
      "(80, ' 15 ---\\n Copyright 1971, 1999 by the President and Fellows of Harvard College\\n\\nPreface for the Revised Edition\\n\\nhistorical conditions and the traditions, institutions, and social forces of\\neach country. As a political conception, then, justice, as fairnes')\n",
      "(81, 's includes\\nno natural right of private property in the means of production (although\\nit does include a right to personal property as necessary for citizens\\nindependence and integrity), nor a natural right to worker-owned and\\n-managed firms. It offers inst')\n",
      "(82, 'ead a conception of justice in the light of\\nwhich, given the particular circumstances of a country, those questions\\n\\ncan be reasonably decided.\\nJohn Rawls\\n\\nNovember 1990\\n\\n7. See the last two paragraphs of 42, Chapter V.\\n\\nxvi\\n\\n\\n--- Page 16 ---\\n Copyright 1')\n",
      "(83, '971, 1999 by the President and Fellows of Harvard College\\n\\nPREFACE\\n\\nIn presenting a theory of justice I have tried to bring together into one\\ncoherent view the ideas expressed in the papers I have written over the\\npast dozen years or so. All of the centra')\n",
      "(84, 'l topics of these essays are taken\\nup again, usually in considerably more detail. The further questions re-\\nquired to round out the theory are also discussed. The exposition falls into\\nthree parts. The first part covers with much greater elaboration the s')\n",
      "(85, 'ame\\nground as Justice as Fairness (1958) and Distributive Justice: Some\\nAddenda (1968), while the three chapters of the second part correspond\\nrespectively, but with many additions, to the topics of Constitutional\\nLiberty (1963), Distributive Justice (196')\n",
      "(86, '7), and Civil Disobedience\\n(1966). The second chapter of the last part covers the subjects of The\\nSense of Justice (1963). Except in a few places, the other chapters of this\\npart do not parallel the published essays. Although the main ideas are\\nmuch the s')\n",
      "(87, 'ame, I have tried to eliminate inconsistencies and to fill out and\\nstrengthen the argument at many points.\\n\\nPerhaps I can best explain my aim in this book as follows. During\\nmuch of modern moral philosophy the predominant systematic theory has\\nbeen some f')\n",
      "(88, 'orm of utilitarianism. One reason for this is that it has been\\nespoused by a long line of brilliant writers who have built up a body of\\nthought truly impressive in its scope and refinement. We sometimes for-\\nget that the great utilitarians, Hume and Adam ')\n",
      "(89, 'Smith, Bentham and Mill,\\nwere social theorists and economists of the first rank; and the moral\\ndoctrine they worked out was framed to meet the needs of their wider\\ninterests and to fit into a comprehensive scheme. Those who criticized\\nthem often did so on')\n",
      "(90, ' a much narrower front. They pointed out the obscu-\\nrities of the principle of utility and noted the apparent incongruities be-\\ntween many of its implications and our moral sentiments. But they failed,\\nI believe, to construct a workable and systematic mor')\n",
      "(91, 'al conception to\\noppose it. The outcome is that we often seem forced to choose between\\nutilitarianism and intuitionism. Most likely we finally settle upon a vari-\\n\\nxvii\\n\\n\\n--- Page 17 ---\\n Copyright 1971, 1999 by the President and Fellows of Harvard Colleg')\n",
      "(92, 'e\\n\\nPreface\\n\\nant of the utility principle circumscribed and restricted in certain ad hoc\\nways by intuitionistic constraints. Such a view is not irrational; and there\\nis no assurance that we can do better. But this is no reason not to try.\\n\\nWhat I have atte')\n",
      "(93, 'mpted to do is to generalize and carry to a higher order\\nof abstraction the traditional theory of the social contract as represented\\nby Locke, Rousseau, and Kant. In this way I hope that the theory can be\\ndeveloped so that it is no longer open to the more')\n",
      "(94, ' obvious objections\\noften thought fatal to it. Moreover, this theory seems to offer an alterna-\\ntive systematic account of justice that is superior, or so I argue, to the\\ndominant utilitarianism of the tradition. The theory that results is highly\\nKantian ')\n",
      "(95, 'in nature. Indeed, I must disclaim any originality for the views I\\nput forward. The leading ideas are classical and well known. My inten-\\ntion has been to organize them into a general framework by using certain\\nsimplifying devices so that their full force')\n",
      "(96, ' can be appreciated. My ambi-\\ntions for the book will be completely realized if it enables one to see more\\nclearly the chief structural features of the alternative conception of justice\\nthat is implicit in the contract tradition and points the way to its ')\n",
      "(97, 'further\\nelaboration. Of the traditional views, it is this conception, I believe,\\nwhich best approximates our considered judgments of justice and consti-\\ntutes the most appropriate moral basis for a democratic society.\\n\\nThis is a long book, not only in pag')\n",
      "(98, 'es. Therefore, to make things easier\\nfor the reader, a few remarks by way of guidance. The fundamental\\nintuitive ideas of the theory of justice are presented in  1-4 of Chapter I.\\nFrom here it is possible to go directly to the discussion of the two\\nprinci')\n",
      "(99, 'ples of justice for institutions in 1117 of Chapter II, and then to\\nthe account of the original position in Chapter III, the whole chapter. A\\nglance at 8 on the priority problem may prove necessary if this notion is\\nunfamiliar. Next, parts of Chapter IV, ')\n",
      "(100, '33-35 on equal liberty and 39-\\n40 on the meaning of the priority of liberty and the Kantian interpreta-\\ntion, give the best picture of the doctrine. So far this is about a third of the\\nwhole and comprises most of the essentials of the theory.\\n\\nThere is a ')\n",
      "(101, 'danger, however, that without consideration of the argument\\nof the last part, the theory of justice will be misunderstood. In particular,\\nthe following sections should be emphasized: 6667 of Chapter VII on\\nmoral worth and self-respect and related notions;')\n",
      "(102, ' 77 of Chapter VIII on\\nthe basis of equality; and 7879 on autonomy and social union, 82 on\\nthe priority of liberty, and 85-86 on the unity of the self and congru-\\nence, all in Chapter IX. Adding these sections to the others still comes to\\nconsiderably les')\n",
      "(103, 's than half the text.\\n\\nxviii\\n\\n\\n--- Page 18 ---\\n Copyright 1971, 1999 by the President and Fellows of Harvard College\\n\\nPreface\\n\\nThe section headings, the remarks that preface each chapter, and the\\nindex will guide the reader to the contents of the book. It')\n",
      "(104, ' seems superflu-\\nous to comment on this except to say that I have avoided extensive\\nmethodological discussions. There is a brief consideration of the nature\\nof moral theory in 9, and of justification in 4 and 87. A short digres-\\nsion on the meaning of goo')\n",
      "(105, 'd is found in 62. Occasionally there are\\nmethodological comments and asides, but for the most part I try to work\\nout a substantive theory of justice. Comparisons and contrasts with other\\ntheories, and criticisms thereof now and then, especially of utilita')\n",
      "(106, 'rianism,\\nare viewed as means to this end.\\n\\nBy not including most of Chapters IVVIII in the more basic parts of\\nthe book, I do not mean to suggest that these chapters are peripheral, or\\nmerely applications. Rather, I believe that an important test of a the')\n",
      "(107, 'ory of\\njustice is how well it introduces order and system into our considered\\njudgments over a wide range of questions. Therefore the topics of these\\nchapters need to be taken up, and the conclusions reached modify in turn\\nthe view proposed. But in this r')\n",
      "(108, 'egard the reader is more free to follow his\\npreferences and to look at the problems which most concern him.\\n\\nIn writing this book I have acquired many debts in addition to those\\nindicated in the text. Some of these I should like to acknowledge here.\\nThree')\n",
      "(109, ' different versions of the manuscript have passed among students\\nand colleagues, and I have benefited beyond estimation from the innu-\\nmerable suggestions and criticisms that I have received. I am grateful to\\nAllan Gibbard for his criticism of the first v')\n",
      "(110, 'ersion (1964-1965). To meet\\nhis objections to the veil of ignorance as then presented, it seemed neces-\\nsary to include a theory of the good. The notion of primary goods based\\non the conception discussed in Chapter VII is the result. I also owe him\\nthanks')\n",
      "(111, ', along with Norman Daniels, for pointing out difficulties with my\\naccount of utilitarianism as a basis for individual duties and obligations.\\nTheir objections led me to eliminate much of this topic and to simplify\\nthe treatment of this part of the theory')\n",
      "(112, '. David Diamond objected force-\\nfully to my discussion of equality, particularly to its failure to consider\\nthe relevance of status. I eventually included an account of self-respect as\\na primary good to try to deal with this and other questions, including')\n",
      "(113, '\\nthose of society as a social union of social unions and the priority of\\nliberty. I had profitable discussions with David Richards on the problems\\nof political duty and obligation. Although supererogation is not a central\\ntopic of the book, I have been he')\n",
      "(114, 'lped in my comments on it by Barry\\n\\nxix\\n\\n\\n--- Page 19 ---\\n Copyright 1971, 1999 by the President and Fellows of He\\n\\nPreface\\n\\nCurtis and John Troyer; even so they may still object to what I say.\\nThanks should also go to Michael Gardner and Jane English for')\n",
      "(115, \" several\\ncorrections which I managed to make in the final text.\\n\\nI have been fortunate in receiving valuable criticisms from persons\\nwho have discussed the essays in print.' I am indebted to Brian Barry,\\nMichael Lessnoff, and R. P. Wolff for their discuss\")\n",
      "(116, 'ions of the formulation\\nof and the argument for the two principles of justice. Where I have not\\naccepted their conclusions I have had to amplify the argument to meet\\ntheir objections. I hope the theory as now presented is no longer open to\\nthe difficultie')\n",
      "(117, 's they raised, nor to those urged by John Chapman. The\\nrelation between the two principles of justice and what I call the general\\nconception of justice is similar to that proposed by S. I. Benn. I am\\ngrateful to him, and to Lawrence Stern and Scott Boorma')\n",
      "(118, 'n, for sugges-\\ntions in this direction. The substance of Norman Cares criticisms of the\\nconception of moral theory found in the essays seems sound to me, and\\nI have tried to develop the theory of justice so that it avoids his objec-\\ntions. In doing this, ')\n",
      "(119, 'I have learned from Burton Dreben, who made W. V.\\nQuines view clear to me and persuaded me that the notions of meaning\\nand analyticity play no essential role in moral theory as I conceive of it.\\nTheir relevance for other philosophical questions need not b')\n",
      "(120, 'e disputed\\nhere one way or the other; but I have tried to make the theory of justice\\n\\n1. In the order mentioned in the first paragraph, the references for the six essays are as follows:\\nJustice as Fairness, The Philosophical Review, vol. 57 (1958); Distri')\n",
      "(121, 'butive Justice: Some Ad-\\ndenda, Natural Law Forum, vol. 13 (1968); Constitutional Liberty and the Concept of Justice,\\nNomos VI: Justice, ed. C. J. Friedrich and John Chapman (New York, Atherton Press, 1963); Dis-\\ntributive Justice, Philosophy, Politics, a')\n",
      "(122, 'nd Society, Third Series, ed. Peter Laslett and W. G. Runci-\\nman (Oxford, Basil Blackwell, 1967); The Justification of Civil Disobedience, Civil Disobedience,\\ned. H. A. Bedau (New York, Pegasus, 1969); The Sense of Justice, The Philosophical Review, vol.\\n')\n",
      "(123, '62 (1963).\\n\\n2. See Brian Barry, On Social Justice, The Oxford Review (Trinity Term, 1967), pp. 29-52;\\nMichael Lessnoff, John Rawls Theory of Justice, Political Studies, vol. 19 (1971), pp. 65-80; and\\nR. P. Wolff, A Refutation of Rawls Theorem on Justice, ')\n",
      "(124, 'Journal of Philosophy, vol. 63 (1966),\\npp. 179-190. While Distributive Justice (1967) was completed and sent to the publisher before\\nWolffs article appeared, I regret that from oversight I failed to add a reference to it in proof.\\n\\n3. See John Chapman, Ju')\n",
      "(125, 'stice and Fairness, in Nomos VI: Justice.\\n\\n4. See S. I. Benn, Egalitarianism and the Equal Consideration of Interests, Nomos IX: Equality,\\ned. J. R. Pennock and John Chapman (New York, Atherton Press, 1967), pp. 72-78.\\n\\n5. See Norman Care, Contractualism ')\n",
      "(126, 'and Moral Criticism, The Review of Metaphysics, vol. 23\\n(1969), pp. 85-101. I should also like to acknowledge here the criticisms of my work by R. L.\\nCunningham, Justice: Efficiency or Fairness, The Personalist, vol. 52 (1971); Dorothy Emmett,\\nJustice, Pr')\n",
      "(127, 'oceedings of the Aristotelian Society, supp. vol. (1969); Charles Frankel, Justice and\\nRationality, in Philosophy, Science, and Method, ed. Sidney Morgenbesser, Patrick Suppes, and\\nMorton White (New York, St. Martins Press, 1969); and Ch. Perelman, Justic')\n",
      "(128, 'e (New York, Random\\nHouse, 1967), esp. pp. 39-51.\\n\\nXX\\n\\n\\n--- Page 20 ---\\n Copyright 1971, 1999 by the President and Fellows of Harvard College\\n\\nPreface\\n\\nindependent of them. Thus I have followed with some modifications the\\npoint of view of my Outline for E')\n",
      "(129, 'thics. I should also like to thank\\nA. K. Sen for his searching discussion and criticisms of the theory of\\njustice. These have enabled me to improve the presentation at various\\nplaces. His book will prove indispensable to philosophers who wish to\\nstudy the')\n",
      "(130, ' more formal theory of social choice as economists think of it.\\nAt the same time, the philosophical problems receive careful treatment.\\n\\nMany persons have volunteered written comments on the several ver-\\nsions of the manuscript. Gilbert Harmans on the ear')\n",
      "(131, 'liest one were funda-\\nmental and forced me to abandon a number of views and to make basic\\nchanges at many points. I received others while at the Philosophical\\nInstitute at Boulder (summer 1966), from Leonard Krimerman, Richard\\nLee, and Huntington Terrell;')\n",
      "(132, ' and from Terrell again later. I have tried to\\naccommodate to these, and to the very extensive and instructive com-\\nments of Charles Fried, Robert Nozick, and J. N. Shklar, each of whom\\nhas been of great help throughout. In developing the account of the g')\n",
      "(133, 'ood,\\nI have gained much from J. M. Cooper, T. M. Scanlon, and A. T. Ty-\\nmoczko, and from discussions over many years with Thomas Nagel, to\\nwhom I am also indebted for clarification about the relation between the\\ntheory of justice and utilitarianism. I mus')\n",
      "(134, 't also thank R. B. Brandt and\\nJoshua Rabinowitz for their many useful ideas for improvements in the\\nsecond manuscript (1967-1968), and B. J. Diggs, J. C. Harsanyi, and\\nW. G. Runciman for illuminating correspondence.\\n\\nDuring the writing of the third versio')\n",
      "(135, 'n (1969-1970), Brandt, Tracy\\nKendler, E. S. Phelps, and Amlie Rorty were a constant source of ad-\\nvice, and their criticisms were of great assistance. On this manuscript I\\nreceived many valuable comments and suggestions for changes from\\nHerbert Morris, an')\n",
      "(136, 'd from Lessnoff and Nozick; these have saved me from\\na number of lapses and have made the book much better. I am particularly\\ngrateful to Nozick for his unfailing help and encouragement during the\\nlast stages. Regrettably I have not been able to deal with')\n",
      "(137, ' all criticisms\\nreceived, and I am well aware of the faults that remain; but the measure of\\nmy debt is not the shortfall from what might be but the distance traveled\\nfrom the beginnings.\\n\\nThe Center for Advanced Study at Stanford provided the ideal place\\n')\n",
      "(138, 'for me to complete my work. I should like to express my deep apprecia-\\n\\n6. The Philosophical Review, vol. 50 (1951).\\n7. See Collective Choice and Social Welfare (San Francisco, Holden-Day, 1970), esp. pp. 136-141,\\n156-160.\\n\\nxxl\\n\\n\\n--- Page 21 ---\\n Copyrigh')\n",
      "(139, 't 1971, 1999 by the President and Fellows of Harvard College\\n\\nPreface\\n\\ntion for its support in 1969-1970, and for that of the Guggenheim and\\nKendall foundations in 1964-1965. I am grateful to Anna Tower and to\\nMargaret Griffin for helping me with the fina')\n",
      "(140, 'l manuscript.\\n\\nWithout the good will of all these good people I never could have\\nfinished this book.\\n\\nJohn Rawls\\n\\nCambridge, Massachusetts\\nAugust 1971\\n\\nXxii\\n\\n\\n--- Page 22 ---\\n Copyright 1971, 1999 by the President and Fellows of Harvard College\\n\\nPART ONE.')\n",
      "(141, ' THEORY\\n\\n\\n--- Page 23 ---\\n Copyright 1971, 1999 by the President and Fellows of Harvard College\\n\\nCHAPTER I. JUSTICE AS FAIRNESS\\n\\nIn this introductory chapter I sketch some of the main ideas of the theory\\nof justice I wish to develop. The exposition is inf')\n",
      "(142, 'ormal and intended to\\nprepare the way for the more detailed arguments that follow. Unavoidably\\nthere is some overlap between this and later discussions. I begin by\\ndescribing the role of justice in social cooperation and with a brief ac-\\ncount of the prim')\n",
      "(143, 'ary subject of justice, the basic structure of society. I\\nthen present the main idea of justice as fairness, a theory of justice that\\ngeneralizes and carries to a higher level of abstraction the traditional\\nconception of the social contract. The compact o')\n",
      "(144, 'f society is replaced by\\nan initial situation that incorporates certain procedural constraints on\\narguments designed to lead to an original agreement on principles of\\njustice. I also take up, for purposes of clarification and contrast, the\\nclassical utili')\n",
      "(145, 'tarian and intuitionist conceptions of justice and consider\\nsome of the differences between these views and justice as fairness. My\\nguiding aim is to work out a theory of justice that is a viable alternative to\\nthese doctrines which have long dominated ou')\n",
      "(146, 'r philosophical tradition.\\n\\n1. THE ROLE OF JUSTICE\\n\\nJustice is the first virtue of social institutions, as truth is of systems of\\nthought. A theory however elegant and economical must be rejected or\\nrevised if it is untrue; likewise laws and institutions ')\n",
      "(147, 'no matter how effi-\\ncient and well-arranged must be reformed or abolished if they are unjust.\\nEach person possesses an inviolability founded on justice that even the\\nwelfare of society as a whole cannot override. For this reason justice\\ndenies that the lo')\n",
      "(148, 'ss of freedom for some is made right by a greater good\\nshared by others. It does not allow that the sacrifices imposed on a few\\nare outweighed by the larger sum of advantages enjoyed by many. There-\\nfore in a just society the liberties of equal citizenshi')\n",
      "(149, 'p are taken as settled;\\n\\n\\n--- Page 24 ---\\n Copyright 1971, 1999 by the President and Fellows of Harvard College\\n\\nJustice as Fairness\\n\\nthe rights secured by justice are not subject to political bargaining or to\\nthe calculus of social interests. The only th')\n",
      "(150, 'ing that permits us to acqui-\\nesce in an erroneous theory is the lack of a better one; analogously, an\\ninjustice is tolerable only when it is necessary to avoid an even greater\\ninjustice. Being first virtues of human activities, truth and justice are\\nunco')\n",
      "(151, 'mpromising.\\n\\nThese propositions seem to express our intuitive conviction of the\\nprimacy of justice. No doubt they are expressed too strongly. In any event\\nI wish to inquire whether these contentions or others similar to them are\\nsound, and if so how they ')\n",
      "(152, 'can be accounted for. To this end it is necessary\\nto work out a theory of justice in the light of which these assertions can\\nbe interpreted and assessed. I shall begin by considering the role of the\\nprinciples of justice. Let us assume, to fix ideas, that')\n",
      "(153, ' a society is a more\\nor less self-sufficient association of persons who in their relations to one\\nanother recognize certain rules of conduct as binding and who for the\\nmost part act in accordance with them. Suppose further that these rules\\nspecify a syste')\n",
      "(154, 'm of cooperation designed to advance the good of those\\ntaking part in it. Then, although a society is a cooperative venture for\\nmutual advantage, it is typically marked by a conflict as well as by an\\nidentity of interests. There is an identity of interest')\n",
      "(155, 's since social coopera-\\ntion makes possible a better life for all than any would have if each were\\nto live solely by his own efforts. There is a conflict of interests since\\npersons are not indifferent as to how the greater benefits produced by\\ntheir colla')\n",
      "(156, 'boration are distributed, for in order to pursue their ends they\\neach prefer a larger to a lesser share. A set of principles is required for\\nchoosing among the various social arrangements which determine this\\ndivision of advantages and for underwriting an')\n",
      "(157, ' agreement on the proper\\ndistributive shares. These principles are the principles of social justice:\\nthey provide a way of assigning rights and duties in the basic institutions\\nof society and they define the appropriate distribution of the benefits and\\nbu')\n",
      "(158, 'rdens of social cooperation.\\n\\nNow let us say that a society is well-ordered when it is not only\\ndesigned to advance the good of its members but when it is also effec-\\ntively regulated by a public conception of justice. That is, it is a society in\\nwhich (1')\n",
      "(159, ') everyone accepts and knows that the others accept the same\\nprinciples of justice, and (2) the basic social institutions generally satisfy\\nand are generally known to satisfy these principles. In this case while\\nmen may put forth excessive demands on one ')\n",
      "(160, 'another, they nevertheless\\nacknowledge a common point of view from which their claims may be\\nadjudicated. If mens inclination to self-interest makes their vigilance\\n\\n\\n--- Page 25 ---\\n Copyright 1971, 1999 by the President and Fellows of Harvard College\\n\\n1')\n",
      "(161, '. The Role of Justice\\n\\nagainst one another necessary, their public sense of justice makes their\\nsecure association together possible. Among individuals with disparate\\naims and purposes a shared conception of justice establishes the bonds of\\ncivic friendsh')\n",
      "(162, 'ip; the general desire for justice limits the pursuit of other\\nends. One may think of a public conception of justice as constituting the\\nfundamental charter of a well-ordered human association.\\n\\nExisting societies are of course seldom well-ordered in this')\n",
      "(163, ' sense, for\\nwhat is just and unjust is usually in dispute. Men disagree about which\\nprinciples should define the basic terms of their association. Yet we may\\nstill say, despite this disagreement, that they each have a conception of\\njustice. That is, they ')\n",
      "(164, 'understand the need for, and they are prepared to\\naffirm, a characteristic set of principles for assigning basic rights and\\nduties and for determining what they take to be the proper distribution of\\nthe benefits and burdens of social cooperation. Thus it ')\n",
      "(165, \"seems natural to\\nthink of the concept of justice as distinct from the various conceptions of\\njustice and as being specified by the role which these different sets of\\nprinciples, these different conceptions, have in common.' Those who hold\\ndifferent concep\")\n",
      "(166, 'tions of justice can, then, still agree that institutions are\\njust when no arbitrary distinctions are made between persons in the\\nassigning of basic rights and duties and when the rules determine a proper\\nbalance between competing claims to the advantages')\n",
      "(167, ' of social life. Men\\ncan agree to this description of just institutions since the notions of an\\narbitrary distinction and of a proper balance, which are included in the\\nconcept of justice, are left open for each to interpret according to the\\nprinciples of')\n",
      "(168, ' justice that he accepts. These principles single out which\\nsimilarities and differences among persons are relevant in determining\\nrights and duties and they specify which division of advantages is appro-\\npriate. Clearly this distinction between the conce')\n",
      "(169, 'pt and the various con-\\nceptions of justice settles no important questions. It simply helps to\\nidentify the role of the principles of social justice.\\n\\nSome measure of agreement in conceptions of justice is, however, not\\nthe only prerequisite for a viable ')\n",
      "(170, 'human community. There are other\\nfundamental social problems, in particular those of coordination, effici-\\nency, and stability. Thus the plans of individuals need to be fitted together\\nso that their activities are compatible with one another and they can ')\n",
      "(171, 'all be\\ncarried through without anyones legitimate expectations being severely\\ndisappointed. Moreover, the execution of these plans should lead to the\\n\\n1. Here I follow H. L. A. Hart, The Concept of Law (Oxford, The Clarendon Press, 1961), pp. 155\\n159.\\n\\n\\n-')\n",
      "(172, '-- Page 26 ---\\n Copyright 1971, 1999 by the President and Fellows of Harvard College\\n\\nJustice as Fairness\\n\\nachievement of social ends in ways that are efficient and consistent with\\njustice. And finally, the scheme of social cooperation must be stable: it\\n')\n",
      "(173, 'must be more or less regularly complied with and its basic rules willingly\\nacted upon; and when infractions occur, stabilizing forces should exist\\nthat prevent further violations and tend to restore the arrangement. Now it\\nis evident that these three prob')\n",
      "(174, 'lems are connected with that of justice.\\nIn the absence of a certain measure of agreement on what is just and\\nunjust, it is clearly more difficult for individuals to coordinate their plans\\nefficiently in order to insure that mutually beneficial arrangemen')\n",
      "(175, 'ts are\\nmaintained. Distrust and resentment corrode the ties of civility, and suspi-\\ncion and hostility tempt men to act in ways they would otherwise avoid.\\nSo while the distinctive role of conceptions of justice is to specify basic\\nrights and duties and t')\n",
      "(176, 'o determine the appropriate distributive shares, the\\nway in which a conception does this is bound to affect the problems of\\nefficiency, coordination, and stability. We cannot, in general, assess a\\nconception of justice by its distributive role alone, howe')\n",
      "(177, 'ver useful this\\nrole may be in identifying the concept of justice. We must take into\\naccount its wider connections; for even though justice has a certain prior-\\nity, being the most important virtue of institutions, it is still true that,\\nother things equa')\n",
      "(178, 'l, one conception of justice is preferable to another when\\nits broader consequences are more desirable.\\n\\n2. THE SUBJECT OF JUSTICE\\n\\nMany different kinds of things are said to be just and unjust: not only\\nlaws, institutions, and social systems, but also pa')\n",
      "(179, 'rticular actions of many\\nkinds, including decisions, judgments, and imputations. We also call the\\nattitudes and dispositions of persons, and persons themselves, just and\\nunjust. Our topic, however, is that of social justice. For us the primary\\nsubject of ')\n",
      "(180, 'justice is the basic structure of society, or more exactly, the way\\nin which the major social institutions distribute fundamental rights and\\nduties and determine the division of advantages from social cooperation.\\nBy major institutions I understand the po')\n",
      "(181, 'litical constitution and the prin-\\ncipal economic and social arrangements. Thus the legal protection of\\nfreedom of thought and liberty of conscience, competitive markets, pri-\\nvate property in the means of production, and the monogamous family\\nare example')\n",
      "(182, 's of major social institutions. Taken together as one scheme,\\nthe major institutions define mens rights and duties and influence their\\nlife prospects, what they can expect to be and how well they can hope to\\n\\n\\n--- Page 27 ---\\n Copyright 1971, 1999 by the ')\n",
      "(183, 'President and Fellows of Harvard College\\n\\n2. The Subject of Justice\\n\\ndo. The basic structure is the primary subject of justice because its effects\\nare so profound and present from the start. The intuitive notion here is\\nthat this structure contains variou')\n",
      "(184, 's social positions and that men born into\\ndifferent positions have different expectations of life determined, in part,\\nby the political system as well as by economic and social circumstances.\\nIn this way the institutions of society favor certain starting ')\n",
      "(185, 'places over\\nothers. These are especially deep inequalities. Not only are they perva-\\nsive, but they affect mens initial chances in life; yet they cannot possibly\\nbe justified by an appeal to the notions of merit or desert. It is these\\ninequalities, presum')\n",
      "(186, 'ably inevitable in the basic structure of any society, to\\nwhich the principles of social justice must in the first instance apply.\\nThese principles, then, regulate the choice of a political constitution and\\nthe main elements of the economic and social sys')\n",
      "(187, 'tem. The justice of a\\nsocial scheme depends essentially on how fundamental rights and duties\\nare assigned and on the economic opportunities and social conditions in\\nthe various sectors of society.\\n\\nThe scope of our inquiry is limited in two ways. First of')\n",
      "(188, ' all, I am\\nconcerned with a special case of the problem of justice. I shall not con-\\nsider the justice of institutions and social practices generally, nor except\\nin passing the justice of the law of nations and of relations between\\nstates (58). Therefore,')\n",
      "(189, ' if one supposes that the concept of justice applies\\nwhenever there is an allotment of something rationally regarded as advan-\\ntageous or disadvantageous, then we are interested in only one instance of\\nits application. There is no reason to suppose ahead ')\n",
      "(190, 'of time that the\\nprinciples satisfactory for the basic structure hold for all cases. These\\nprinciples may not work for the rules and practices of private associations\\nor for those of less comprehensive social groups. They may be irrelevant\\nfor the various')\n",
      "(191, ' informal conventions and customs of everyday life; they\\nmay not elucidate the justice, or perhaps better, the fairness of voluntary\\ncooperative arrangements or procedures for making contractual agree-\\nments. The conditions for the law of nations may requ')\n",
      "(192, 'ire different princi-\\nples arrived at in a somewhat different way. I shall be satisfied if it is\\npossible to formulate a reasonable conception of justice for the basic\\nstructure of society conceived for the time being as a closed system\\nisolated from othe')\n",
      "(193, 'r societies. The significance of this special case is\\nobvious and needs no explanation. It is natural to conjecture that once we\\nhave a sound theory for this case, the remaining problems of justice will\\nprove more tractable in the light of it. With suitab')\n",
      "(194, 'le modifications such a\\ntheory should provide the key for some of these other questions.\\n\\nThe other limitation on our discussion is that for the most part I\\n\\n\\n--- Page 28 ---\\n Copyright 1971, 1999 by the President and Fellows of Harvard College\\n\\nIndex\\n\\nAc')\n",
      "(195, 'ton, Lord, 189n\\n\\nAdvice, 356-357, 393-394\\n\\nAccidents of natural endowment, see Dis-\\ntribution of natural assets\\n\\nAggregative-distributive dichotomy, 32\\n33, 39, 279-280\\n\\nAiken, H. D., 452-453n, 454\\n\\nAims, see Desires\\n\\nAlbritton, R. G., 333n\\n\\nAllocative jus')\n",
      "(196, 'tice, 56, 77\\n\\nAlston, W. P., 420n\\n\\nAlternatives: presentation of, 21:105-\\n109; ways and difficulties of specify-\\ning, 105-107; short list of, 107; condi-\\ntional alternatives excluded, 108;\\nargument for principles relative to list\\nof, 108-109; problem of a')\n",
      "(197, 'd hoc list in\\njustification, 508-509\\n\\nAltruism, perfect, 164-165; limited, see\\nMutual disinterestedness\\n\\nAmdur, Robert, 99n\\n\\nAnalysis of meaning: role of in moral the-\\nory, 44-45, 112-113; and contract\\ndefinition of right, 95-96, 161; and\\ndefinition of go')\n",
      "(198, 'odness, 352-353; and\\nthin theory of good, 355-358, 396; and\\njustification, 506-507\\n\\nAnimals, 15, 441, 448\\n\\nAnscombe, G. E. M., 49n, 420n, 559n\\n\\nApproval, 356-357, 373-374\\n\\nAquinas, St. Thomas, 189-190, 351n, 554\\n\\nArchimedean point, 230-232, 511\\n\\nArguments')\n",
      "(199, ' for conceptions of justice,\\n20:102-105; second part of contract\\ntheories, 14; intuitive idea of, 102-103;\\nand procedure of social theory, 103;\\nideally deductive, 104-105; various\\ninterpretations of initial situation,\\n105\\n\\nAristotelian Principle, 65:372-3')\n",
      "(200, '80;\\ndefined, 374-375; and principles of ra-\\ntional choice, 364, 376; as principle of\\nmotivation, 375-376; companion effect\\n\\n521\\n\\nof, 375-376, 413, 463, 500-501;\\ninfluence on rational plans of life, 376;\\nas tendency, 376-377; and chains of ac-\\ntivities, 37')\n",
      "(201, '8; evolutionary explanation,\\n378-379; as deep psychological fact,\\n379-380; helps account for judgments\\nof value, 379-380; connection with\\nself-respect and the excellences, 386\\n388, 390-391; in morality of associa-\\ntion, 412-413; and social union, 458\\n459,')\n",
      "(202, ' 463; in argument for congruence,\\n500-501; and publicity, 510\\n\\nAristotle, 45n, 79, 214, 351n, 488; defini-\\ntion of justice, 10; and perfectionism,\\n22, 286; and Aristotelian Principle,\\n374n; and happiness, 481n; on envy\\nand spite, 466n, 468n\\n\\nArrow, K. J.,')\n",
      "(203, ' 116n, 124n, 172n, 228n,\\n233n, 284n, 311n, 314n\\n\\nArtificial identification of interests, 49,\\n173, 399n\\n\\nAshby, W. R., 400n\\n\\nAssurance problem, 237-238, 277n, 296\\n305-306\\n\\nAustin, J. L., 356n\\n\\nAuthoritative decision, principle of, 209\\n\\nAutonomy, 78:450-456')\n",
      "(204, '; defined, 451\\n452; Kants interpretation of, 222-226;\\nand responsibility of citizens in civil\\ndisobedience, 341-342; and moral edu-\\ncation, 451; and original position, 452\\n454; relation to objectivity, 452-454;\\nand erring conscience, 454-455; and\\nvirtues ')\n",
      "(205, 'of integrity, 455-456\\n\\nAvineri, Shlomo, 460n\\n\\nBackground institutions, 43:242-251;\\nand interpretations of the second princi-\\nple, 61-64; and types of procedural jus-\\ntice, 74-76; and branches of govern-\\nment, 243-251; social minimum and\\ntransfer branch, 2')\n",
      "(206, '44245; taxation and\\ndistribution branch, 245-247; in socialist\\n\\n\\n--- Page 29 ---\\n Copyright 1971, 1999 by the President and Fellows of Harvard College\\n\\nIndex\\n\\nBackground institutions (continued)\\nregime, 247-249; exchange branch,\\n249-251\\n\\nBackground justic')\n",
      "(207, 'e, 73-78; and fair\\nequality of opportunity, 73-74, 76; role\\nof basic structure in, 73-74, 76-78; as\\ncondition of pure procedural justice,\\n74-77, as condition of obligations, 96\\n97, 302, 330; and fair wages (distribu-\\ntive shares), 268-271. See also Back-\\n')\n",
      "(208, 'ground institutions\\n\\nBad man, 385-386\\n\\nBaier, Kurt, 113n, 115n, 329n\\n\\nBandura, Albert, 402n\\n\\nBargaining, 116n, 120-121\\n\\nBarry, Brian, 30n, 33n, 229n, 287n, 291n\\n\\nliberties, enumerated, 53\\n\\nstructure of society, 2:610;\\ndefined, 67; when well-ordered,\\ndefin')\n",
      "(209, 'ed, 45; justice as first virtue of,\\n3-4; as primary subject of justice, 6-\\n10, 47, 73-74; principles of justice for\\nnot generally applicable, 7; several vir-\\ntues of and social ideals, 89; two\\nparts of, 53, 174-175; as background\\nfor procedural justice, 7')\n",
      "(210, '6-77; as shap-\\ning human wants and ideals of the per-\\nson, 229-232; and relative stability,\\n400-401\\n\\nBaumol, W. J., 33n, 132133n, 236n,\\n238n, 240n, 283n\\n\\nBeardsmore, R. W., 129n\\n\\nBeck, L. W., 221n\\n\\nBedau, H. A., 320n\\n\\nBeneficence, 298n; act of defined, 38')\n",
      "(211, '5\\n\\nBenevolence: act of defined, 385; and su-\\npererogatory acts, 100-101, 167; com-\\npared as formal condition to mutual\\ndisinterestedness combined with veil\\nof ignorance, 128-129; conflict of\\nloves in, 166; and idea of splitting,\\n166-167; as second-order n')\n",
      "(212, 'otion, 167\\n\\nBenn, S. I., 444n\\n\\nBennett, Jonathan, 124n\\n\\nBentham, Jeremy, 20n, 26, 27n, 287, 399;\\nhis utilitarianism contrasted with jus-\\ntice as fairness, 2830; on the artificial\\nidentification of interests, 49, 173,\\n399n; Maine on his standard assump-\\nti')\n",
      "(213, 'ons, 285\\n\\nBergson, Abram, 229n, 240n\\n\\nBerlin, Isaiah, 177n, 202n, 254n\\n\\nBickel, A. M., 342n\\n\\nBlack, Duncan, 315n\\n\\nBlaug, Mark, 240n\\n\\nBlessedness, 842\\n\\nBoorman, Scott, 84n\\n\\n522\\n\\nBowman, M. J., 84n\\n\\nBradley, F. H., 95n, 221n, 351n\\n\\nBraithwaite, R. B., 116n\\n')\n",
      "(214, '\\nBrandt, R. B., 20n, 30n, 97n, 99n, 140n,\\n368n; and publicity condition, 159n\\n\\nBrierly, J. L., 332n\\n\\nBroad, C. D., 161n, 329n, 487n, 488n\\n\\nBroadly based properties, 382, 383-384\\n\\nBrown, Roger, 402n, 41 1n, 433n\\n\\nBuchanan, J. M., 61n, 173n, 235n, 236n\\n\\nBur')\n",
      "(215, 'ke, Edmund, 217, 265\\n\\nButler, Bishop, 467n\\n\\nCampbell, B. G., 378n\\n\\nCampbell, C. A., 373n, 381n\\n\\nCantor, Georg, 45\\n\\nCardinal utility, 78, 282-285\\n\\nCareers open to talents, 57-58, 62-63,\\n91-92\\n\\nCarnap, Rudolf, 146n\\n\\nCartesian justification, 506-507\\n\\nCassire')\n",
      "(216, 'r, Ernst,\\n\\nCaste systems, 84-85, 87-88, 91\\n\\nCategorical imperatives, 222-223, 511\\n\\nCavell, Stanley, 389n\\n\\nChain connection, 69-72\\n\\nChains of activities, 377-378\\n\\nChains of reasons, 432, 434\\n\\nChakravarty, Sukamoy, 253n, 262n\\n\\nChomsky, Noam, 41n\\n\\nCircumstan')\n",
      "(217, 'ces of justice 22:109-112;\\ndefined, 109; objective elements of,\\n109-110; subjective elements of, 110;\\nexistence of assumed in original posi-\\ntion, 111; duties and obligations to\\nthird parties in, 111; motivational as-\\nsumptions in, 111-112; presumes\\nconfl')\n",
      "(218, 'ict of ideals, 112; role of in Kan-\\ntian interpretation, 223-224, 226; two\\ninterpretations of, 456-457\\n\\nCivil disobedience, 55:319-323,\\n57:326-331, 59:335-343; defined,\\n320-323; to oppose savings policies,\\n261-262; as problem for democratic\\ntheory, 319; t')\n",
      "(219, 'hree parts of theory of,\\n319; and sense of justice, 320, 328,\\n339-340; as a political act, 320-321;\\nand fidelity to law, 322; distinguished\\nfrom militant action, 322-323; appro-\\npriate objects of, 326-327; three condi-\\ntions of justification of, 326-329; ')\n",
      "(220, 'prob-\\nlem of fairness in, 328-329; wisdom\\nof, 330; and principle of fairness, 330-\\n331; role of in maintaining democratic\\nconstitution, 335-338; theory of\\nfounded on conception of justice, 337\\n338; place of in constitutional theory,\\n\\n\\n\\n')\n"
     ]
    }
   ],
   "source": [
    "# Execute a SELECT query\n",
    "query = \"SELECT * FROM texts\"\n",
    "mycursor.execute(query)\n",
    "\n",
    "# Fetch all rows\n",
    "rows = mycursor.fetchall()\n",
    "\n",
    "# Print the results\n",
    "for row in rows:\n",
    "    print(row)  # You can format this output as needed"
   ]
  }
 ],
 "metadata": {
  "kernelspec": {
   "display_name": "streamlit",
   "language": "python",
   "name": "python3"
  },
  "language_info": {
   "codemirror_mode": {
    "name": "ipython",
    "version": 3
   },
   "file_extension": ".py",
   "mimetype": "text/x-python",
   "name": "python",
   "nbconvert_exporter": "python",
   "pygments_lexer": "ipython3",
   "version": "3.12.1"
  }
 },
 "nbformat": 4,
 "nbformat_minor": 2
}
