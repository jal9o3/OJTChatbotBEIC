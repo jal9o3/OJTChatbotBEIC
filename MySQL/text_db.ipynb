{
 "cells": [
  {
   "cell_type": "markdown",
   "metadata": {},
   "source": [
    "# Text Database Notebook\n",
    "I made this notebook to explore the MySQL Python Connector. Markdown cells have\n",
    "been added for the team's future reference.\n",
    "### WARNING: Do not 'RUN ALL' cells! \n",
    "### This notebook contains cells that remove databases, papers, writes data, etc.\n",
    "### For exploration purposes only! "
   ]
  },
  {
   "cell_type": "code",
   "execution_count": 1,
   "metadata": {},
   "outputs": [],
   "source": [
    "import mysql.connector"
   ]
  },
  {
   "cell_type": "markdown",
   "metadata": {},
   "source": [
    "# Enter MySQL Password\n",
    "Password will be input this way to avoid being exposed in the code."
   ]
  },
  {
   "cell_type": "code",
   "execution_count": 2,
   "metadata": {},
   "outputs": [],
   "source": [
    "password = input(\"Enter your database password: \")"
   ]
  },
  {
   "cell_type": "markdown",
   "metadata": {},
   "source": [
    "# Initial Connection\n",
    "This cell connects us to MySQL. Change the host and username as needed."
   ]
  },
  {
   "cell_type": "code",
   "execution_count": 3,
   "metadata": {},
   "outputs": [],
   "source": [
    "text_db = mysql.connector.connect(\n",
    "    host=\"127.0.0.1\",\n",
    "    user=\"root\",\n",
    "    password=password,\n",
    ")"
   ]
  },
  {
   "cell_type": "markdown",
   "metadata": {},
   "source": [
    "# Initializing the MySQL cursor\n",
    "This cursor allows us to perform MySQL operations using Python."
   ]
  },
  {
   "cell_type": "code",
   "execution_count": 4,
   "metadata": {},
   "outputs": [],
   "source": [
    "mycursor = text_db.cursor()"
   ]
  },
  {
   "cell_type": "markdown",
   "metadata": {},
   "source": [
    "# Create a database\n",
    "This cell creates a new database. Change the database name as needed."
   ]
  },
  {
   "cell_type": "code",
   "execution_count": 9,
   "metadata": {},
   "outputs": [],
   "source": [
    "mycursor.execute(\"CREATE DATABASE technical_database\")"
   ]
  },
  {
   "cell_type": "markdown",
   "metadata": {},
   "source": [
    "# Drop a database\n",
    "### (Be careful with this cell!)\n",
    "This cell removes an existing database. Change name as needed (the cell below outputs a list of existing databases)"
   ]
  },
  {
   "cell_type": "code",
   "execution_count": 7,
   "metadata": {},
   "outputs": [],
   "source": [
    "mycursor.execute(\"DROP DATABASE technical_db\")"
   ]
  },
  {
   "cell_type": "markdown",
   "metadata": {},
   "source": [
    "# List all existing databases\n",
    "This cell displays all MySQL databases."
   ]
  },
  {
   "cell_type": "code",
   "execution_count": 5,
   "metadata": {},
   "outputs": [
    {
     "name": "stdout",
     "output_type": "stream",
     "text": [
      "('information_schema',)\n",
      "('mysql',)\n",
      "('performance_schema',)\n",
      "('sakila',)\n",
      "('sys',)\n",
      "('technical_db',)\n",
      "('world',)\n"
     ]
    }
   ],
   "source": [
    "mycursor.execute(\"SHOW DATABASES\")\n",
    "for x in mycursor:\n",
    "    print(x)"
   ]
  },
  {
   "cell_type": "markdown",
   "metadata": {},
   "source": [
    "# Connecting to Database\n",
    "This connects us to a specific database. Change the database name as needed (you \n",
    "can choose from the list of databases output by the cell above)"
   ]
  },
  {
   "cell_type": "code",
   "execution_count": 6,
   "metadata": {},
   "outputs": [],
   "source": [
    "text_db = mysql.connector.connect(\n",
    "    host=\"127.0.0.1\",\n",
    "    user=\"root\",\n",
    "    password=password,\n",
    "    database=\"technical_db\"\n",
    ")"
   ]
  },
  {
   "cell_type": "code",
   "execution_count": 7,
   "metadata": {},
   "outputs": [],
   "source": [
    "mycursor = text_db.cursor()"
   ]
  },
  {
   "cell_type": "markdown",
   "metadata": {},
   "source": [
    "# Drop a table from the database\n",
    "### (Be careful with this cell!)\n",
    "\n",
    "This removes a table from the database that we are connected to. Change the table name as needed."
   ]
  },
  {
   "cell_type": "code",
   "execution_count": 8,
   "metadata": {},
   "outputs": [],
   "source": [
    "mycursor.execute(\"DROP TABLE papers\")"
   ]
  },
  {
   "cell_type": "markdown",
   "metadata": {},
   "source": [
    "# Create a sample table for papers\n",
    "This creates a database table called 'papers' with columns for primary key (auto incremented), title, author, and chunk (consisting of 255 chars at most)"
   ]
  },
  {
   "cell_type": "code",
   "execution_count": 9,
   "metadata": {},
   "outputs": [],
   "source": [
    "mycursor.execute(\"\"\"\n",
    "    CREATE TABLE papers (\n",
    "        id INT AUTO_INCREMENT PRIMARY KEY,\n",
    "        title VARCHAR(255),\n",
    "        author VARCHAR(255),\n",
    "        chunk TEXT(255)\n",
    "    )\n",
    "\"\"\")"
   ]
  },
  {
   "cell_type": "markdown",
   "metadata": {},
   "source": [
    "# Show all tables in database\n",
    "This cell lists all the tables in the database that we're connected to."
   ]
  },
  {
   "cell_type": "code",
   "execution_count": 8,
   "metadata": {},
   "outputs": [
    {
     "name": "stdout",
     "output_type": "stream",
     "text": [
      "('chunks',)\n",
      "('papers',)\n"
     ]
    }
   ],
   "source": [
    "mycursor.execute(\"SHOW TABLES\")\n",
    "for x in mycursor:\n",
    "    print(x)"
   ]
  },
  {
   "cell_type": "markdown",
   "metadata": {},
   "source": [
    "# See current directory\n",
    "We're about to work with files (Tesseract output .txt files), so we need to check our current working directory"
   ]
  },
  {
   "cell_type": "code",
   "execution_count": 9,
   "metadata": {},
   "outputs": [
    {
     "name": "stdout",
     "output_type": "stream",
     "text": [
      "c:\\Users\\USER\\Documents\\OJTChatbotBEIC\\MySQL\n"
     ]
    }
   ],
   "source": [
    "import os\n",
    "print(os.getcwd())"
   ]
  },
  {
   "cell_type": "markdown",
   "metadata": {},
   "source": [
    "# Upload an extracted paper into the database\n",
    "The paper is divided into chunks (up to length 255) and stored into the database, \n",
    "along with metadata such as title and author name"
   ]
  },
  {
   "cell_type": "code",
   "execution_count": 12,
   "metadata": {},
   "outputs": [],
   "source": [
    "# Read the entire file content\n",
    "with open('../Tesseract/Extracted.txt', 'r', encoding=\"utf-8\", errors='ignore') as file:\n",
    "    file_content = file.read()\n",
    "\n",
    "# Split the content into smaller strings (up to 255 characters)\n",
    "max_length = 255\n",
    "split_content = [file_content[i:i + max_length] for i in range(0, len(file_content), max_length)]\n",
    "\n",
    "title = \"A CASE STUDY OF UNDERSTANDING THE BONAPARTE BASIN USING UNSTRUCTURED DATA ANALYSIS WITH MACHINE LEARNING TECHNIQUES\"\n",
    "authors = \"A.N.N. Sazali, N.M. Hernandez, F. Baillard, K.G. Maver\"\n",
    "\n",
    "# Insert each smaller string into the database\n",
    "query = \"INSERT INTO papers (title, author, chunk) VALUES (%s, %s, %s)\"\n",
    "for content in split_content:\n",
    "    mycursor.execute(query, (title, authors, content))"
   ]
  },
  {
   "cell_type": "markdown",
   "metadata": {},
   "source": [
    "# Commit the changes into the database\n",
    "This updates the database, this time for real"
   ]
  },
  {
   "cell_type": "code",
   "execution_count": 13,
   "metadata": {},
   "outputs": [],
   "source": [
    "text_db.commit()"
   ]
  },
  {
   "cell_type": "markdown",
   "metadata": {},
   "source": [
    "# Print all rows of the table\n",
    "Useful for checking the committed changes"
   ]
  },
  {
   "cell_type": "code",
   "execution_count": 11,
   "metadata": {},
   "outputs": [
    {
     "name": "stdout",
     "output_type": "stream",
     "text": [
      "(1, 1, 1, '\\nON THE ELECTRODYNAMICS OF MOVING\\nBODIES\\n\\nBy A. EINSTEIN\\n\\nJune 30, 1905\\n\\nIt is known that Maxwell’s electrodynamics—as usually understood at the\\npresent time—when applied to moving bodies, leads to asymmetries which do\\nnot appear to be inherent in the phe')\n",
      "(2, 1, 2, 'nomena. Take, for example, the recipro-\\neal electrodynamic action of a magnet and a conductor. The observable phe-\\nnomenon here depends only on the relative motion of the conductor and the\\nmagnet, whereas the customary view draws a sharp distinction betwe')\n",
      "(3, 1, 3, 'en the two\\ncases in which either the one or the other of these bodies is in motion. For if the\\nmagnet is in motion and the conductor at rest, there arises in the neighbour-\\nhood of the magnet an electric field with a certain definite energy, producing\\na c')\n",
      "(4, 1, 4, 'urrent at the places where parts of the conductor are situated. But if the\\nmagnet is stationary and the conductor in motion, no electric field arises in the\\nneighbourhood of the magnet. In the conductor, however, we find an electro-\\nmotive force, to which')\n",
      "(5, 1, 5, ' in itself there is no corresponding energy, but which gives\\nrise—assuming equality of relative motion in the two cases discussed—to elec-\\ntric currents of the same path and intensity as those produced by the electric\\nforces in the former case.\\n\\nExamples ')\n",
      "(6, 1, 6, 'of this sort, together with the unsuccessful attempts to discover\\nany motion of the earth relatively to the “light medium,” suggest that the\\nphenomena of electrodynamics as well as of mechanics possess no properties\\ncorresponding to the idea of absolute r')\n",
      "(7, 1, 7, 'est. They suggest rather that, as has\\nalready been shown to the first order of small quantities, the same laws of\\nelectrodynamics and optics will be valid for all frames of reference for which the\\nequations of mechanics hold good.! We will raise this conj')\n",
      "(8, 1, 8, 'ecture (the purport\\nof which will hereafter be called the “Principle of Relativity”) to the status\\nof a postulate, and also introduce another postulate, which is only apparently\\nirreconcilable with the former, namely, that light is always propagated in em')\n",
      "(9, 1, 9, 'pty\\nspace with a definite velocity ¢ which is independent of the state of motion of the\\nemitting body. These two postulates suffice for the attainment of a simple and\\nconsistent theory of the electrodynamics of moving bodies based on Maxwell’s\\ntheory for ')\n",
      "(10, 1, 10, 'stationary bodies. The introduction of a “luminiferous ether” will\\nprove to be superfluous inasmuch as the view here to be developed will not\\nrequire an “absolutely stationary space” provided with special properties, nor\\n\\n1The preceding memoir by Lorentz ')\n",
      "(11, 1, 11, 'was not at this time known to the author.\\n\\n\\n\\nassign a velocity-vector to a point of the empty space in which electromagnetic\\nprocesses take place.\\n\\nThe theory to be developed is based—like all electrodynamics—on the kine-\\nmatics of the rigid body, since t')\n",
      "(12, 1, 12, 'he assertions of any such theory have to do\\nwith the relationships between rigid bodies (systems of co-ordinates), clocks,\\nand electromagnetic processes. Insufficient consideration of this circumstance\\nlies at the root of the difficulties which the electr')\n",
      "(13, 1, 13, 'odynamics of moving bodies\\nat present encounters.\\n\\nI. KINEMATICAL PART\\n\\n§ 1. Definition of Simultaneity\\n\\nLet us take a system of co-ordinates in which the equations of Newtonian\\nmechanics hold good.? In order to render our presentation more precise and\\nto')\n",
      "(14, 1, 14, ' distinguish this system of co-ordinates verbally from others which will be\\nintroduced hereafter, we call it the “stationary system.”\\n\\nIf a material point is at rest relatively to this system of co-ordinates, its\\nposition can be defined relatively thereto')\n",
      "(15, 1, 15, ' by the employment of rigid standards\\nof measurement and the methods of Euclidean geometry, and can be expressed\\nin Cartesian co-ordinates.\\n\\nIf we wish to describe the motion of a material point, we give the values of\\nits co-ordinates as functions of the ')\n",
      "(16, 1, 16, 'time. Now we must bear carefully in mind\\nthat a mathematical description of this kind has no physical meaning unless\\nwe are quite clear as to what we understand by “time.” We have to take into\\naccount that all our judgments in which time plays a part are ')\n",
      "(17, 1, 17, 'always judgments\\nof simultaneous events. If, for instance, I say, “That train arrives here at 7\\no’clock,” I mean something like this: “The pointing of the small hand of my\\nwatch to 7 and the arrival of the train are simultaneous events.”\\n\\nIt might appear ')\n",
      "(18, 1, 18, 'possible to overcome all the difficulties attending the defini-\\ntion of “time” by substituting “the position of the small hand of my watch” for\\n“time.” And in fact such a definition is satisfactory when we are concerned with\\ndefining a time exclusively fo')\n",
      "(19, 1, 19, 'r the place where the watch is located; but it is no\\nlonger satisfactory when we have to connect in time series of events occurring\\nat different places, or—what comes to the same thing—to evaluate the times of\\nevents occurring at places remote from the wa')\n",
      "(20, 1, 20, 'tch.\\n\\nWe might, of course, content ourselves with time values determined by an\\nobserver stationed together with the watch at the origin of the co-ordinates,\\nand co-ordinating the corresponding positions of the hands with light signals,\\ngiven out by every ')\n",
      "(21, 1, 21, 'event to be timed, and reaching him through empty space.\\nBut this co-ordination has the disadvantage that it is not independent of the\\nstandpoint of the observer with the watch or clock, as we know from experience.\\n\\n. to the first approximation.\\n\\n3We shal')\n",
      "(22, 1, 22, 'l not here discuss the inexactitude which lurks in the concept of simultaneity of\\ntwo events at approximately the same place, which can only be removed by an abstraction.\\n\\n\\n\\nWe arrive at a much more practical determination along the following line of\\nthou')\n",
      "(23, 1, 23, 'ght.\\n\\nIf at the point A of space there is a clock, an observer at A can determine the\\ntime values of events in the immediate proximity of A by finding the positions\\nof the hands which are simultaneous with these events. If there is at the point B\\nof space')\n",
      "(24, 1, 24, ' another clock in all respects resembling the one at A, it is possible for\\nan observer at B to determine the time values of events in the immediate neigh-\\nbourhood of B. But it is not possible without further assumption to compare,\\nin respect of time, an ')\n",
      "(25, 1, 25, 'event at A with an event at B. We have so far defined\\nonly an “A time” and a “B time.” We have not defined a common “time” for\\nA and B, for the latter cannot be defined at all unless we establish by definition\\nthat the “time” required by light to travel f')\n",
      "(26, 1, 26, 'rom A to B equals the “time” it\\nrequires to travel from B to A. Let a ray of light start at the “A time” ¢, from\\nA towards B, let it at the “B time” tp be reflected at B in the direction of A,\\nand arrive again at A at the “A time” t).\\n\\nIn accordance with ')\n",
      "(27, 1, 27, 'definition the two clocks synchronize if\\n\\ntp —ta =t, — tp.\\n\\nWe assume that this definition of synchronism is free from contradictions,\\nand possible for any number of points; and that the following relations are\\nuniversally valid:—\\n\\n1. If the clock at B sy')\n",
      "(28, 1, 28, 'nchronizes with the clock at A, the clock at A syn-\\nchronizes with the clock at B.\\n\\n2. If the clock at A synchronizes with the clock at B and also with the clock\\nat C, the clocks at B and C also synchronize with each other.\\n\\nThus with the help of certain ')\n",
      "(29, 1, 29, 'imaginary physical experiments we have set-\\ntled what is to be understood by synchronous stationary clocks located at dif-\\nferent places, and have evidently obtained a definition of “simultaneous,” or\\n“synchronous,” and of “time.” The “time” of an event i')\n",
      "(30, 1, 30, 's that which is given\\nsimultaneously with the event by a stationary clock located at the place of\\nthe event, this clock being synchronous, and indeed synchronous for all time\\ndeterminations, with a specified stationary clock.\\n\\nIn agreement with experience')\n",
      "(31, 1, 31, ' we further assume the quantity\\n\\n2AB\\n\\n=c¢\\n\\nto be a universal constant—the velocity of light in empty space.\\n\\nIt is essential to have time defined by means of stationary clocks in the\\nstationary system, and the time now defined being appropriate to the sta')\n",
      "(32, 1, 32, 'tionary\\nsystem we call it “the time of the stationary system.”\\n\\n§ 2. On the Relativity of Lengths and Times\\n\\nThe following reflexions are based on the principle of relativity and on the\\nprinciple of the constancy of the velocity of light. These two princi')\n",
      "(33, 1, 33, 'ples we define\\nas follows:—\\n\\n\\n\\n1. The laws by which the states of physical systems undergo change are not\\naffected, whether these changes of state be referred to the one or the other of\\ntwo systems of co-ordinates in uniform translatory motion.\\n\\n2. Any ra')\n",
      "(34, 1, 34, 'y of light moves in the “stationary” system of co-ordinates with\\nthe determined velocity c, whether the ray be emitted by a stationary or by a\\nmoving body. Hence\\n\\nlight path\\n\\nvelocity = —-—_——_—_\\ntime interval\\n\\nwhere time interval is to be taken in the se')\n",
      "(35, 1, 35, 'nse of the definition in § 1.\\n\\nLet there be given a stationary rigid rod; and let its length be / as measured\\nby a measuring-rod which is also stationary. We now imagine the axis of the\\nrod lying along the axis of x of the stationary system of co-ordinate')\n",
      "(36, 1, 36, 's, and that\\na uniform motion of parallel translation with velocity v along the axis of x in\\nthe direction of increasing x is then imparted to the rod. We now inquire as to\\nthe length of the moving rod, and imagine its length to be ascertained by the\\nfollo')\n",
      "(37, 1, 37, 'wing two operations:—\\n\\n(a) The observer moves together with the given measuring-rod and the rod\\nto be measured, and measures the length of the rod directly by superposing the\\nmeasuring-rod, in just the same way as if all three were at rest.\\n\\n(b) By means ')\n",
      "(38, 1, 38, 'of stationary clocks set up in the stationary system and syn-\\nchronizing in accordance with § 1, the observer ascertains at what points of the\\nstationary system the two ends of the rod to be measured are located at a definite\\ntime. The distance between th')\n",
      "(39, 1, 39, 'ese two points, measured by the measuring-rod\\nalready employed, which in this case is at rest, is also a length which may be\\ndesignated “the length of the rod\\n\\nIn accordance with the principle of relativity the length to be discovered by\\nthe operation (@)')\n",
      "(40, 1, 40, '—we will call it “the length of the rod in the moving system”—\\nmust be equal to the length / of the stationary rod.\\n\\nThe length to be discovered by the operation (8) we will call “the length\\nof the (moving) rod in the stationary system.” This we shall det')\n",
      "(41, 1, 41, 'ermine on the\\nbasis of our two principles, and we shall find that it differs from l.\\n\\nCurrent kinematics tacitly assumes that the lengths determined by these two\\noperations are precisely equal, or in other words, that a moving rigid body at\\nthe epoch t ma')\n",
      "(42, 1, 42, 'y in geometrical respects be perfectly represented by the same\\nbody at rest in a definite position.\\n\\nWe imagine further that at the two ends A and B of the rod, clocks are\\nplaced which synchronize with the clocks of the stationary system, that is to say\\nt')\n",
      "(43, 1, 43, 'hat their indications correspond at any instant to the “time of the stationary\\nsystem” at the places where they happen to be. These clocks are therefore\\n“synchronous in the stationary system.”\\n\\nWe imagine further that with each clock there is a moving obs')\n",
      "(44, 1, 44, 'erver, and\\nthat these observers apply to both clocks the criterion established in § 1 for the\\nsynchronization of two clocks. Let a ray of light depart from A at the time‘ ta,\\n\\n4¢Time” here denotes “time of the stationary system” and also “position of hand')\n",
      "(45, 1, 45, 's of the\\nmoving clock situated at the place under discussion.”\\n\\n\\n\\nlet it be reflected at B at the time fp, and reach A again at the time t,. Taking\\ninto consideration the principle of the constancy of the velocity of light we find\\nthat\\nTAB 1 TAB\\n\\ntg —ta =')\n",
      "(46, 1, 46, ' a and t, —tg = eto\\nwhere rap denotes the length of the moving rod—measured in the stationary\\nsystem. Observers moving with the moving rod would thus find that the two\\nclocks were not synchronous, while observers in the stationary system would\\ndeclare the')\n",
      "(47, 1, 47, ' clocks to be synchronous.\\n\\nSo we see that we cannot attach any absolute signification to the concept of\\nsimultaneity, but that two events which, viewed from a system of co-ordinates,\\nare simultaneous, can no longer be looked upon as simultaneous events w')\n",
      "(48, 1, 48, 'hen\\nenvisaged from a system which is in motion relatively to that system.\\n\\n§ 3. Theory of the Transformation of Co-ordinates and\\nTimes from a Stationary System to another System in\\nUniform Motion of Translation Relatively to the Former\\n\\nLet us in “station')\n",
      "(49, 1, 49, 'ary” space take two systems of co-ordinates, i.e. two sys-\\ntems, each of three rigid material lines, perpendicular to one another, and issuing\\nfrom a point. Let the axes of X of the two systems coincide, and their axes of\\nY and Z respectively be parallel.')\n",
      "(50, 1, 50, ' Let each system be provided with a rigid\\nmeasuring-rod and a number of clocks, and let the two measuring-rods, and\\nlikewise all the clocks of the two systems, be in all respects alike.\\n\\nNow to the origin of one of the two systems (k) let a constant veloc')\n",
      "(51, 1, 51, 'ity v\\nbe imparted in the direction of the increasing x of the other stationary system\\n(K), and let this velocity be communicated to the axes of the co-ordinates, the\\nrelevant measuring-rod, and the clocks. To any time of the stationary system K\\nthere then')\n",
      "(52, 1, 52, ' will correspond a definite position of the axes of the moving system,\\nand from reasons of symmetry we are entitled to assume that the motion of k\\nmay be such that the axes of the moving system are at the time t (this “t” always\\ndenotes a time of the stat')\n",
      "(53, 1, 53, 'ionary system) parallel to the axes of the stationary\\nsystem.\\n\\nWe now imagine space to be measured from the stationary system K by\\nmeans of the stationary measuring-rod, and also from the moving system k\\nby means of the measuring-rod moving with it; and t')\n",
      "(54, 1, 54, 'hat we thus obtain the\\nco-ordinates x, y, z, and €, 7, ¢ respectively. Further, let the time ¢ of the\\nstationary system be determined for all points thereof at which there are clocks\\nby means of light signals in the manner indicated in § 1; similarly let ')\n",
      "(55, 1, 55, 'the time\\n7 of the moving system be determined for all points of the moving system at\\nwhich there are clocks at rest relatively to that system by applying the method,\\ngiven in § 1, of light signals between the points at which the latter clocks are\\nlocated.')\n",
      "(56, 1, 56, '\\n\\nTo any system of values z, y, z, t, which completely defines the place and\\ntime of an event in the stationary system, there belongs a system of values ,\\n\\n\\n\\nn, ¢, 7, determining that event relatively to the system k, and our task is now\\nto find the syste')\n",
      "(57, 1, 57, 'm of equations connecting these quantities.\\n\\nIn the first place it is clear that the equations must be linear on account of\\nthe properties of homogeneity which we attribute to space and time.\\n\\nIf we place 2’ = , it is clear that a point at rest in the sys')\n",
      "(58, 1, 58, 'tem k must\\nhave a system of values , 2, independent of time. We first define 7 as a\\nfunction of x’, y, z, and t. To do this we have to express in equations that 7 is\\nnothing else than the summary of the data of clocks at rest in system k, which\\nhave been ')\n",
      "(59, 1, 59, 'synchronized according to the rule given in § 1.\\n\\nFrom the origin of system k let a ray be emitted at the time 7) along the\\n\\nis to x’, and at the time 7, be reflected thence to the origin of the co-\\nordinates, arriving there at the time 7); we then must h')\n",
      "(60, 1, 60, \"ave 4(1) + 72) = 71, or,\\nby inserting the arguments of the function r and applying the principle of the\\nconstancy of the velocity of light in the stationary system:—\\n\\n‘| 0,0,0,t) +7 (0,0,0,t+ + ~_)] =r (2',0,0,t4\\n3 |70,0,0,4) +7 {0,0,0,¢+ cao) | HT Ae Ost\")\n",
      "(61, 1, 61, '\\n\\nHence, if x’ be chosen infinitesimally small,\\n1 ( 1 1 ) Or Or 1 Or\\n\\n2\\\\ce—v ctu Bt da Tone at’\\n\\nOr v OF\\n\\nOz! -v’\\n\\nIt is to be noted that instead of the origin of the co-ordinates we might have\\nchosen any other point for the point of origin of the ray, an')\n",
      "(62, 1, 62, 'd the equation just\\nobtained is therefore valid for all values of x’, y, z.\\n\\nAn analogous consideration—applied to the axes of Y and Z—it being borne\\nin mind that light is always propagated along these axes, when viewed from the\\nstationary system, with th')\n",
      "(63, 1, 63, 'e velocity Vc? — v? gives us\\n\\nSince 7 is a linear function, it follows from these equations that\\n\\nraa(t- ¥ )\\n\\nwhere a is a function ¢{v) at present unknown, and where for brevity it is\\nassumed that at the origin of k, 7 , when ¢ = 0.\\n\\nWith the help of thi')\n",
      "(64, 1, 64, 's result we easily determine the quantities €, 7, ¢ by\\nexpressing in equations that light (as required by the principle of the constancy\\nof the velocity of light, in combination with the principle of relativity) is also\\n\\n\\n\\npropagated with velocity c when ')\n",
      "(65, 1, 65, 'measured in the moving system. For a ray of\\nlight emitted at the time 7 = 0 in the direction of the increasing &\\n\\nger or €=a0(¢-\\n\\nBut the ray moves relatively to the initial point of k, when measured in the\\nstationary system, with the velocity c — v, so t')\n",
      "(66, 1, 66, 'hat\\n\\n-—v\\n\\nIf we insert this value of t in the equation for €, we obtain\\n\\nIn an analogous manner we find, by considering rays moving along the two other\\naxes, that\\n\\nwhen\\n\\nSubstituting for x’ its value, we obtain\\n\\nov) Bt — v2/e*),\\no(v) B(x — vt),\\nolu)y,\\n\\nol')\n",
      "(67, 1, 67, 'v)z,\\n\\nwhere\\nand ¢ is an as yet unknown function of v. If no assumption whatever be made\\n\\nas to the initial position of the moving system and as to the zero point of 7, an\\nadditive constant is to be placed on the right side of each of these equations.\\n\\n\\n\\nW')\n",
      "(68, 1, 68, 'e now have to prove that any ray of light, measured in the moving system,\\nis propagated with the velocity c, if, as we have assumed, this is the case in the\\nstationary system; for we have not as yet furnished the proof that the principle\\nof the constancy ')\n",
      "(69, 1, 69, 'of the velocity of light is compatible with the principle of\\nrelativity.\\n\\nAt the time t = r = 0, when the origin of the co-ordinates is common to the\\ntwo systems, let a spherical wave be emitted therefrom, and be propagated with\\nthe velocity c in system K')\n",
      "(70, 1, 70, '. If (z,y,z} be a point just attained by this wave,\\nthen\\n\\nPoyt2= t.\\n\\nansforming this equation with the aid of our equations of transformation\\nwe obtain after a simple calculation\\n\\ni el\\n\\nThe wave under consideration is therefore no less a spherical wave wi')\n",
      "(71, 1, 71, 'th\\nvelocity of propagation c when viewed in the moving system. This shows that\\nour two fundamental principles are compatible.®\\n\\nIn the equations of transformation which have been developed there enters\\nan unknown function ¢ of v, which we will now determi')\n",
      "(72, 1, 72, 'ne.\\n\\nFor this purpose we introduce a third system of co-ordinates K’, which rel-\\natively to the system k is in a state of parallel translatory motion parallel to\\nthe axis of &,f such that the origin of co-ordinates of system K’ moves with\\nvelocity —v on t')\n",
      "(73, 1, 73, 'he axis of &. At the time ¢ = 0 let all three origins coincide, and\\nwhen = 2 = 0 let the time t’ of the system K’ be zero. We call the\\nco-ordinates, measured in the system K’, 2’, y’, z’, and by a twofold application\\nof our equations of transformation we ')\n",
      "(74, 1, 74, 'obtain\\n\\nB= o(—v)B(-v)(r + vé/c?) o(v)d(—v)Jt,\\nO(-v)B(-v{Et+ur) = p(v)o(—v)z,\\no(-v)n o(v)o(—v)y,\\nH(—v)¢ o(v)o(-2)z.\\n\\nSince the relations between z’, y’, 2’ and x, y, z do not contain the time ¢,\\nthe systems K and K’ are at rest with respect to one another,')\n",
      "(75, 1, 75, ' and it is clear that\\nthe transformation from K to K’ must be the identical transformation. Thus\\n\\nH(v} 6(\\n\\n‘The equations of the Lorentz transformation may be more simply deduced directly from\\nthe condition that in virtue of those equations the relation x')\n",
      "(76, 1, 76, \"? + y? + z? = c?t? shall have as\\nits consequence the second relation 2 = e272,\\n\\nTEditor’s note: In Einstein's ori H, Z) for the co-ordinates of the\\nmoving system & were introduced without explicitly defining them. In the 1923 English translation,\\n(X, Y,Z)\")\n",
      "(77, 1, 77, ' were used, creating an ambiguity between X co-ordinates in the fixed system K and the\\nparallel axis in moving system k. Here and in subsequent references we use = when referring to the\\naxis of system & along which the system is translating with respect t')\n",
      "(78, 1, 78, 'o K. In addition, the reference\\nto system K’ later in this sentence was incorrectly given as “k” in the 1923 English translation.\\n\\n\\n\\nWe now inquire into the signification of ¢(v). We give our attention to that\\n\\npart of the axis of Y of system k which lies')\n",
      "(79, 1, 79, ' between € = 0,7 = 0,¢ = 0 and\\n\\n=1,¢ =0. This part of the axis of Y is a rod moving perpendicularly\\n\\naxis with velocity v relatively to system K. Its ends possess in K the\\nco-ordinates\\n\\nr=vt, y=\\n\\nand\\nr= vt, yo =0, 2 =0.\\n\\nThe length of the rod measured in ')\n",
      "(80, 1, 80, 'K is therefore 1/@(v); and this gives us the\\nmeaning of the function ¢(v). From reasons of symmetry it is now evident that\\nthe length of a given rod moving perpendicularly to its axis, measured in the\\nstationary system, must depend only on the velocity an')\n",
      "(81, 1, 81, 'd not on the direction\\nand the sense of the motion. The length of the moving rod measured in the\\nstationary system does not change, therefore, if v and —v are interchanged.\\nHence follows that I/¢(v) = 1/¢(-v), or\\n\\n$(v) = 4(-v).\\n\\nIt follows from this relat')\n",
      "(82, 1, 82, 'ion and the one previously found that ¢(v) = 1, so that\\nthe transformation equations which have been found become\\n\\nBt — va/e”),\\nB(x — vt),\\nys\\n\\nz.\\n4,\\n\\nwhere\\n\\nB=1/V1-v?/c?.\\n\\n§ 4. Physical Meaning of the Equations Obtained in\\nRespect to Moving Rigid Bodies a')\n",
      "(83, 1, 83, 'nd Moving Clocks\\n\\nWe envisage a rigid sphere® of radius R, at rest relatively to the moving\\nsystem k, and with its centre at the origin of co-ordinates of ‘he equation of\\nthe surface of this sphere moving relatively to the system K with velocity v is\\n\\nCar')\n",
      "(84, 1, 84, 't C=R?.\\n\\n6That is, a body possessing spherical form when examined at rest.\\n\\n\\n\\nThe equation of this surface expressed in z, y, z at the time ¢ = 0 is\\n+y+2=R’.\\n\\nA rigid body which, measured in a state of rest, has the form of a sphere,\\ntherefore has in a st')\n",
      "(85, 1, 85, 'ate of motion—viewed from the stationary system—the\\nform of an ellipsoid of revolution with the axes\\n\\nRyY1-\\n\\nThus, whereas the Y and Z dimensions of the sphere (and therefore of every\\nrigid body of no matter what form) do not appear modified by the motion')\n",
      "(86, 1, 86, ', the\\nX dimension appears shortened in the ratio 1: . the greater the\\nvalue of v, the greater the shortening. For v = ¢ all moving objects—viewed from\\nthe “stationary” system—shrivel up into plane figures.t For velocities greater\\nthan that of light our de')\n",
      "(87, 1, 87, 'liberations become meaningless; we shall, however, find\\nin what follows, that the velocity of light in our theory plays the part, physically,\\nof an infinitely great velocity.\\n\\nIt is clear that the same results hold good of bodies at rest in the “stationar')\n",
      "(88, 1, 88, 'y”\\nsystem, viewed from a system in uniform motion.\\n\\nFurther, we imagine one of the clocks which are qualified to mark the time\\nt when at rest relatively to the stationary system, and the time 7 when at rest\\nrelatively to the moving system, to be located a')\n",
      "(89, 1, 89, 't the origin of the co-ordinates\\nof k, and so adjusted that it marks the time +. What is the rate of this clock,\\nwhen viewed from the stationary system?\\n\\nBetween the quantities x, t, and 7, which refer to the position of the clock,\\nwe have, evidently, z =')\n",
      "(90, 1, 90, ' vt and\\n\\n(t-—vx/c?).\\n\\nTherefore,\\n\\nwhence it follows that the time marked by the clock (viewed in the stationary\\nsystem) is slow by 1 — \\\\/1 — v?/c? seconds per second, or—neglecting magni-\\ntudes of fourth and higher order—by $v?/c’\\n\\nFrom this there ensues ')\n",
      "(91, 1, 91, 'the following peculiar consequence. If at the points A\\nand B of K there are stationary clocks which, viewed in the stationary system,\\nare synchronous; and if the clock at A is moved with the velocity v along the\\nline AB to B, then on its arrival at B the ')\n",
      "(92, 1, 92, 'two clocks no longer synchronize,\\nbut the clock moved from A to B lags behind the other which has remained at\\n\\nTEditor’s note: In the 1923 English translation, this phrase was erroneously translated as “plain\\nfigures”. | have used the correct “plane figur')\n",
      "(93, 1, 93, 'es” in this edition.\\n\\n\\n\\nB by $tv?/c? (up to magnitudes of fourth and higher order), ¢ being the time\\noccupied in the journey from A to B.\\n\\nIt is at once apparent that this result still holds good if the clock moves from\\nA to B in any polygonal line, and a')\n",
      "(94, 1, 94, 'lso when the points A and B coincide.\\n\\nIf we assume that the result proved for a polygonal line is also valid for a\\ncontinuously curved line, we arrive at this result: If one of two synchronous\\nclocks at A is moved in a closed curve with constant velocity')\n",
      "(95, 1, 95, ' until it returns to\\nA, the journey lasting t seconds, then by the clock which has remained at rest\\nthe travelled clock on its arrival at A will be }tv?/c? second slow. Thence we\\nconclude that a balance-clock’ at the equator must go more slowly, by a very')\n",
      "(96, 1, 96, '\\nsmall amount, than a precisely similar clock situated at one of the poles under\\notherwise identical conditions.\\n\\n§ 5. The Composition of Velocities\\n\\nIn the system k moving along the axis of X of the system K with velocity v,\\nlet a point move in accordanc')\n",
      "(97, 1, 97, 'e with the equations\\n\\nE = WET, = WT, 6 = 0,\\n\\nwhere we and w, denote constants.\\n\\nRequired: the motion of the point relatively to the system K. If with the help\\nof the equations of transformation developed in § 3 we introduce the quantities\\nZz, y, z, t into')\n",
      "(98, 1, 98, ' the equations of motion of the point, we obtain\\n\\nwetv t\\n\\nv\\n\\nWt,\\nL+vwe/e? on\\n\\nThus the law of the parallelogram of velocities is valid according to our\\ntheory only to a first approximation. We set\\n\\n2 2\\nve = (#) (8)\\n\\ndt dt\\nwo = we + we,\\n\\na tan! w,/we,t\\n\\n7N')\n",
      "(99, 1, 99, \"ot a pendulum-clock, which is physically a system to which the Earth belongs. This\\ncase had to be excluded.\\n\\nTEditor’s note: This equation was incorrectly given in Einstein's original paper and the 1923\\nEnglish translation as a = tan~+ Wy / We.\\n\\n\\n\\na is th\")\n",
      "(100, 1, 100, 'en to be looked upon as the angle between the velocities v and w. After\\na simple calculation we obtain\\n\\nIt is worthy of remark that v and w enter into the expression for the resultant\\nvelocity in a symmetrical manner. If w also has the direction of the ax')\n",
      "(101, 1, 101, 'is of X,\\nwe get\\n_ uTrw\\n~ 1l+vw/e\\nIt follows from this equation that from a composition of two velocities which\\nare less than c, there always results a velocity less than c. For if we set v =\\nc—k,w=c-—, « and 4 being positive and less than c, then\\n2e-—K—> ')\n",
      "(102, 1, 102, '<\\n\\ndE Ol rer con\\n\\n2c-—K-A+KA/C\\n\\nIt follows, further, that the velocity of light ¢ cannot be altered by compo-\\nsition with a velocity less than that of light. For this case we obtain\\n\\nV\\n\\nVv\\n\\ne+w\\n\\nl+w/c\\n\\nWe might also have obtained the formula for V, for th')\n",
      "(103, 1, 103, 'e case when v and w have\\nthe same direction, by compounding two transformations in accordance with §\\n3. Ifin addition to the systems K and k figuring in § 3 we introduce still another\\nsystem of co-ordinates k’ moving parallel to &, its initial point movin')\n",
      "(104, 1, 104, 'g on the\\naxis of =! with the velocity w, we obtain equations between the quantities z,\\ny, z, ¢ and the corresponding quantities of k’, which differ from the equations\\nfound in § 3 only in that the place of “v” is taken by the quantity\\n\\nvutw\\n1l+vw\\nfrom whi')\n",
      "(105, 1, 105, 'ch we see that such parallel transformations—necessarily—form a group.\\nWe have now deduced the requisite laws of the theory of kinematics cor-\\nresponding to our two principles, and we proceed to show their application to\\nelectrodynamics.\\n\\nII. ELECTRODYNAM')\n",
      "(106, 1, 106, 'ICAL PART\\n\\n§ 6. Transformation of the Maxwell-Hertz Equations for\\nEmpty Space. On the Nature of the Electromotive Forces\\nOccurring in a Magnetic Field During Motion\\n\\nLet the Maxwell-Hertz equations for empty space hold good for the station-\\nary system K, ')\n",
      "(107, 1, 107, 'so that we have\\n\\nTEditor’s not < the 1923 English translation.\\n\\n12\\n\\n\\n\\nON OM\\n\\nOy Oz?\\noL ON\\n\\naM _ aL\\n\\nOx Oy?\\n\\nQ\\nlal\\n\\nBY _ oz\\nOz Oy?\\nOZ _ OX\\nOx Oz?\\nOX OY\\noy Ox?\\n\\nQ\\n2 2\\n\\nQ =\\na8 ¢e\\n\\nQ\\n-\\n\\nwhere (X, Y, Z) denotes the vector of the electric force, and (L, M, N) t')\n",
      "(108, 1, 108, 'hat of\\nthe magnetic force.\\n\\nIf we apply to these equations the transformation developed in § 3, by re-\\nferring the electromagnetic processes to the system of co-ordinates there intro-\\nduced, moving with the velocity v, we obtain the equations\\n\\n(8(N— EY) }')\n",
      "(109, 1, 109, ' ae {8 (M+ 22)},\\n\\n—§ {8 (Y- N)},\\n\\nRIB Ze\\n\\nRie Rw\\n\\noa\\na\\nax\\nan\\n\\nB= 1/V1—-v?/e?.\\n\\nNow the principle of relativity requires that if the Maxwell-Hertz equations\\nfor empty space hold good in system K, they also hold good in system &; that\\nis to say that the vec')\n",
      "(110, 1, 110, 'tors of the electric and the magnetic force—(X’, Y’, Z’)\\nand (L’, M’, N’)—of the moving system &, which are defined by their pondero-\\nmotive effects on electric or magnetic masses respectively, satisfy the following\\nequations:—\\n\\n&\\na\\n\\nON’ _ OM’\\nOn Og?\\nOL’ ')\n",
      "(111, 1, 111, '_ On’\\noc 0g?\\nOM’ _ OL!\\n0& On?\\n\\nis\\nia\\n\\n_ ou!\\n\\nWe\\n3\\n3\\n\\n8\\n\\nfle Ol ale\\nS.\\nale O1F alr\\nQ\\n=\\nlt\\n\\nQ\\n3\\nQ\\n3\\n\\n\\n\\nEvidently the two systems of equations found for system k must express\\nexactly the same thing, since both systems of equations are equivalent to the\\nMaxwe')\n",
      "(112, 1, 112, 'll-Hertz equations for system K. Since, further, the equations of the two\\nsystems agree, with the exception of the symbols for the vectors, it follows that\\nthe functions occurring in the systems of equations at corresponding places must\\nagree, with the ex')\n",
      "(113, 1, 113, 'ception of a factor #(v), which is common for all functions\\nof the one system of equations, and is independent of £,7,¢ and 7 but depends\\nupon v. Thus we have the relations\\n\\nxX’ = y(v)X, Lo= WL,\\nYo = o(v)B(Y-2N), M’ yu)B (M+ 22),\\nZ = $(v)@(Z+2M), N’ = w(v')\n",
      "(114, 1, 114, ')B(N-2Y).\\n\\nIf we now form the reciprocal of this system of equations, firstly by solving\\nthe equations just obtained, and secondly by applying the equations to the\\ninverse transformation (from k to K), which is characterized by the velocity —v,\\nit follows')\n",
      "(115, 1, 115, ', when we consider that the two systems of equations thus obtained\\nmust be identical, that ¥(v)y(—v) = 1. Further, from reasons of symmetry®\\nand therefore\\n\\nx, L’ L,\\nB(Y-2N), M’ B(M+ 22),\\n\\ne\\n\\nB(Z+2M), N’ = B(N-#Y).\\nAs to the interpretation of these equatio')\n",
      "(116, 1, 116, 'ns we make the following remarks: Let\\na point charge of electricity have the magnitude “one” when measured in the\\nstationary system K, ie. let it when at rest in the stationary system exert a\\nforce of one dyne upon an equal quantity of electricity at a di')\n",
      "(117, 1, 117, 'stance of one cm.\\nBy the principle of relativity this electric charge is also of the magnitude “one”\\nwhen measured in the moving system. If this quantity of electricity is at rest\\nrelatively to the stationary system, then by definition the vector (X, Y, Z')\n",
      "(118, 1, 118, ') is\\nequal to the force acting upon it. If the quantity of electricity is at rest relatively\\nto the moving system (at least at the relevant instant), then the force acting\\nupon it, measured in the moving system, is equal to the vector (X’, Y’, Z’).\\nConseq')\n",
      "(119, 1, 119, 'uently the first three equations above allow themselves to be clothed in\\nwords in the two following ways:\\n\\n1. Ifa unit electric point charge is in motion in an electromagnetic field,\\nthere acts upon it, in addition to the electric force, an “electromotive')\n",
      "(120, 1, 120, ' force”\\nwhich, if we neglect the terms multiplied by the second and higher powers of\\nv/e, is equal to the vector-product of the velocity of the charge and the magnetic\\nforce, divided by the velocity of light. (Old manner of expression.)\\n\\n8If, for example,')\n",
      "(121, 1, 121, ' X nd N # 0, then from reasons of symmetry it is clear\\n\\nthat when v changes sign without changing its numerical value, Y’ must also change sign\\nwithout changing its numerical value.\\n\\n\\n\\n2. If a unit electric point charge is in motion in an electromagnetic ')\n",
      "(122, 1, 122, 'field,\\nthe force acting upon it is equal to the electric force which is present at the\\nlocality of the charge, and which we ascertain by transformation of the field to\\na system of co-ordinates at rest relatively to the electrical charge. (New manner\\nof ex')\n",
      "(123, 1, 123, 'pression.)\\n\\nThe analogy holds with “magnetomotive forces.” We see that electromotive\\nforce plays in the developed theory merely the part of an auxiliary concept,\\nwhich owes its introduction to the circumstance that electric and magnetic forces\\ndo not exis')\n",
      "(124, 1, 124, 't independently of the state of motion of the system of co-ordinates.\\n\\nFurthermore it is clear that the asymmetry mentioned in the introduction\\nas arising when we consider the currents produced by the relative motion of a\\nmagnet and a conductor, now disap')\n",
      "(125, 1, 125, 'pears. Moreover, questions as to the “seat”\\nof electrodynamic electromotive forces (unipolar machines) now have no point.\\n\\n§ 7. Theory of Doppler’s Principle and of Aberration\\n\\nIn the system K, very far from the origin of co-ordinates, let there be a\\nsour')\n",
      "(126, 1, 126, 'ce of electrodynamic waves, which in a part of space containing the origin\\nof co-ordinates may be represented to a sufficient degree of approximation by\\nthe equations\\n\\nX=Xpsind, L=Losind,\\nY=Yosin®, M=Mpsin®,\\nZ=Zosin&, N=Nosind,\\n\\nwhere\\n\\n1\\nBaw {: - alle +my')\n",
      "(127, 1, 127, 't nz) .\\n\\nHere (Xo, Yo, Zo) and (Lo, Mo, No) are the vectors defining the amplitude of\\nthe wave-train, and 1, m,n the direction-cosines of the wave-normals. We wish\\nto know the constitution of these waves, when they are examined by an observer\\nat rest in t')\n",
      "(128, 1, 128, 'he moving system k.\\n\\nApplying the equations of transformation found in § 6 for electric and mag-\\nnetic forces, and those found in § 3 for the co-ordinates and the time, we obtain\\ndirectly\\n\\nX’ = Xpsin&’, L’ = Losin ®\",\\n\\nY’ = B(Yo — vNo/c}sin ®’, M’ = B(Mo ')\n",
      "(129, 1, 129, \"+ vZo/c) sin ®,\\n\\nZ! = B(Zo + vMg/c) sin ®, N’ = B(No — vY0/e) sin &’,\\n® =u! {7 —4(VE+ mn +n'O)}\\n\\nwhere\\n\\n\\n\\nFrom the equation for w’ it follows that if an observer is moving with velocity\\nv relatively to an infinitely distant source of light of frequency v,\")\n",
      "(130, 1, 130, ' in such a way\\nthat the connecting line “source-observer” makes the angle ¢ with the velocity\\nof the observer referred to a system of co-ordinates which is at rest relatively\\nto the source of light, the frequency v’ of the light perceived by the observer ')\n",
      "(131, 1, 131, 'is\\ngiven by the equation\\n\\nThis is Doppler’s principle for any velocities whatever. When ¢ = 0 the equation\\nassumes the perspicuous form\\n\\nWe see that, in contrast with the customary view, when v = —c,v’ = ov.\\n\\nIf we call the angle between the wave-normal (')\n",
      "(132, 1, 132, \"direction of the ray) in the\\nmoving system and the connecting line “source-observer” ¢', the equation for\\n¢'t assumes the form\\n\\ncos @\\n\\n,\\ncos @ = ——_——_\\n¢ l-—cos¢\\n\\nThis equation expresses the law of aberration in its most general form. If ¢ =\\nAn, the equat\")\n",
      "(133, 1, 133, 'ion becomes simply\\n\\ncos ¢’ = —v/e.\\n\\nWe still have to find the amplitude of the waves, as it appears in the moving\\nsystem. If we call the amplitude of the electric or magnetic force A or A’\\nrespectively, accordingly as it is measured in the stationary syst')\n",
      "(134, 1, 134, 'em or in the\\nmoving system, we obtain\\n\\n3 (1 cos /)?\\nA 1-wv/c?\\n\\nwhich equation, if @ = 0, simplifies into\\n\\nTEditor’s note: Erroneously given as “/’” in the 1923 English translation, propagating an error,\\n\\ndespite a change in symbols, from the original 1905')\n",
      "(135, 1, 135, ' paper.\\n\\n16\\n\\n\\n\\nl-v/e\\n\\nA .\\nl+v/e\\n\\nIt follows from these results that to an observer approaching a source of light\\nwith the velocity c, this source of light must appear of infinite intensity.\\n\\n§ 8. Transformation of the Energy of Light Rays. Theory\\nof the P')\n",
      "(136, 1, 136, 'ressure of Radiation Exerted on Perfect Reflectors\\n\\nSince A?/87 equals the energy of light per unit of volume, we have to regard\\nA? /8x, by the principle of relativity, as the energy of light in the moving system.\\nThus A’*/A? would be the ratio of the “me')\n",
      "(137, 1, 137, 'asured in motion” to the “measured\\nat rest” energy of a given light complex, if the volume of a light complex were\\nthe same, whether measured in K or in k. But this is not the case. If 1,m,n are\\nthe direction-cosines of the wave-normals of the light in th')\n",
      "(138, 1, 138, 'e stationary system,\\nno energy passes through the surface elements of a spherical surface moving\\nwith the velocity of light:—\\n\\n(x — let)? + (y — met)? + (2 — net)? = R?.\\n\\nWe may therefore say that this surface permanently encloses the same light\\ncomplex. ')\n",
      "(139, 1, 139, 'We inquire as to the quantity of energy enclosed by this surface,\\nviewed in system k, that is, as to the energy of the light complex relatively to\\nthe system k.\\n\\nThe spherical surface—viewed in the moving system—is an ellipsoidal sur-\\nface, the equation f')\n",
      "(140, 1, 140, 'or which, at the time 7 = 0, is\\n\\n(BE — IBév/e)? + (n — mBEv/e)” + (¢ — nBéu/e)’\\n\\nIf S is the volume of the sphere, and 9’ that of this ellipsoid, then by a simple\\ncalculation\\n\\ncos d+ u/c\\n\\nThus, if we call the light energy enclosed by this surface E when i')\n",
      "(141, 1, 141, 't is measured in\\nthe stationary system, and E’ when measured in the moving system, we obtain\\n\\nLf _ 1l-cos¢:v/\\n\\nand this formula, when ¢ = 0, simplifies into\\n\\nE’_ fl-v/e\\nE Vitv/e\\n\\n\\n\\nIt is remarkable that the energy and the frequency of a light complex vary')\n",
      "(142, 1, 142, '\\nwith the state of motion of the observer in accordance with the same law.\\n\\nNow let the co-ordinate plane € = 0 be a perfectly reflecting surface, at\\nwhich the plane waves considered in § 7 are reflected. We seek for the pressure\\nof light exerted on the r')\n",
      "(143, 1, 143, 'eflecting surface, and for the direction, frequency, and\\nintensity of the light after reflexion.\\n\\nLet the incidental light be defined by the quantities A, cos ¢, v (referred to\\nsystem K). Viewed from k the corresponding quantities are\\n\\nFor the reflected l')\n",
      "(144, 1, 144, 'ight, referring the process to system k, we obtain\\n\\nAv = A’\\ncos o” —cos 6’\\n\\n” 7\\nvy = v\\n\\nFinally, by transforming back to the stationary system K, we obtain for the\\nreflected light\\n\\n1-2cos$-v/e+v7/e\\n1—v?/e?\\n\\n=A\\n\\ncos¢\"+v/e (1+ v*/e?) cosg - 2\\n1l+cos@\"-v/e 1')\n",
      "(145, 1, 145, '—2cosd-v/e+v2/e2’\\nnitcos¢”-v 1—2cos$+v/e+v?/c?\\nVv rs rt 7\\n\\nThe energy (measured in the stationary system) which is incident upon unit\\narea of the mirror in unit time is evidently A?(ecos ¢—v)/8x. The energy leaving\\nthe unit of surface of the mirror in the')\n",
      "(146, 1, 146, ' unit of time is A’”\"(—ccos ¢” + v)/87.\\nThe difference of these two expressions is, by the principle of energy, the work\\ndone by the pressure of light in the unit of time. If we set down this work as\\nequal to the product Pv, where P is the pressure of lig')\n",
      "(147, 1, 147, 'ht, we obtain\\n\\nA? (cos — u/c}?\\n\\n8r 1 — v2 /c?\\n\\n18\\n\\n\\n\\nIn agreement with experiment and with other theories, we obtain to a first\\napproximation\\n\\nP=2 an cos” ¢.\\n\\nAll problems in the optics of moving bodies can be solved by the method\\nhere employed. What is e')\n",
      "(148, 1, 148, 'ssential is, that the electric and magnetic force of the\\nlight which is influenced by a moving body, be transformed into a system of\\nco-ordinates at rest relatively to the body. By this means all problems in the\\noptics of moving bodies will be reduced to ')\n",
      "(149, 1, 149, 'a series of problems in the optics of\\nstationary bodies.\\n\\n§ 9. Transformation of the Maxwell-Hertz Equations\\nwhen Convection-Currents are Taken into Account\\n\\nWe start from the equations\\n\\n{i + uxP}\\n\\né\\nola + Ue}\\né\\n\\n{or + up}\\n\\nwhere\\n\\ndenotes 4x times the den')\n",
      "(150, 1, 150, 'sity of electricity, and (uz, uy, Uz) the velocity-vector of\\nthe charge. If we imagine the electric charges to be it bly coupled to small\\nrigid bodies (ions, electrons), these equations are the electromagnetic basis of\\nthe Lorentzian electrodynamics and o')\n",
      "(151, 1, 151, 'ptics of moving bodies.\\n\\nLet these equations be valid in the system K, and transform them, with the\\nassistance of the equations of transformation given in §§ 3 and 6, to the system\\nk. We then obtain the equations\\n\\n1joX . ay ON’ OM c _ 9 oz!\\nLG tue} = Gm G')\n",
      "(152, 1, 152, 'C ek “OG On?\\n1jav ,. al! _ ON’ OM az! _ ax!\\nlar + Une} aC OF) cé BE 80?\\n1 saz’ ; , OM’ OL! Ox’ oY’\\nelon + MCP} = FE Gy\\n\\nwhere\\n\\n\\n\\nan OE\\nBO —uszv/c)p.\\n\\nSince—as follows from the theorem of addition of velocities (§ 5)—the vector\\n(ug, Un, Ue) is nothing else')\n",
      "(153, 1, 153, ' than the velocity of the electric charge, measured in\\nthe system k, we have the proof that, on the basis of our kinematical principles,\\nthe electrodynamic foundation of Lorentz’s theory of the electrodynamics of\\nmoving bodies is in agreement with the pri')\n",
      "(154, 1, 154, 'nciple of relativity.\\n\\nIn addition I may briefly remark that the following important law may easily\\nbe deduced from the developed equations: If an electrically charged. body is in\\nmotion anywhere in space without altering its charge when regarded from a\\ns')\n",
      "(155, 1, 155, 'ystem of co-ordinates moving with the body, its charge also remains—when\\nregarded from the “stationary” system K—constant.\\n\\n§ 10. Dynamics of the Slowly Accelerated Electron\\n\\nLet there be in motion in an electromagnetic field an electrically charged\\nparti')\n",
      "(156, 1, 156, 'cle (in the sequel called an “electron”), for the law of motion of which we\\nassume as follows:—\\n\\nIf the electron is at rest at a given epoch, the motion of the electron ensues\\nin the next instant of time according to the equations\\n\\neX\\ney\\n\\neZ\\n\\nwhere z,y,z ')\n",
      "(157, 1, 157, 'denote the co-ordinates of the electron, and m the mass of the\\nelectron, as long as its motion is slow.\\n\\n\\n\\nNow, secondly, let the velocity of the electron at a given epoch be v. We\\nseek the law of motion of the electron in the immediately ensuing instants')\n",
      "(158, 1, 158, ' of\\ntime.\\n\\nWithout affecting the general character of our considerations, we may and\\nwill assume that the electron, at the moment when we give it our attention, is at\\nthe origin of the co-ordinates, and moves with the velocity v along the axis of X\\nof the')\n",
      "(159, 1, 159, ' system K. It is then clear that at the given moment (t = 0) the electron\\nis at rest relatively to a system of co-ordinates which is in parallel motion with\\nvelocity v along the axis of X.\\n\\nFrom the above assumption, in combination with the principle of r')\n",
      "(160, 1, 160, \"elativity, it\\nis clear that in the immediately ensuing time (for small values of £) the electron,\\nviewed from the system k, moves in accordance with the equations\\n\\neX’,\\n€Y’,\\n\\neZ’,\\n\\nin which the symbols Y’, Z' refer to the system k. If, further, we\\ndecide \")\n",
      "(161, 1, 161, \"that when t = y Othenz === 0, the transformation\\nequations of §§ 3 and 6 hold good, so that we have\\n\\n€= B(x — vt), n= 9,6 = 2,7 = Blt — vz/e?),\\nX! = X,Y’ = B(Y —- vN/c),Z' = B(Z + vM/c).\\n\\nWith the help of these equations we transform the above equations o\")\n",
      "(162, 1, 162, 'f motion\\nfrom system k to system K, and obtain\\nBe\\nwe = mal(Zt3\\nTaking the ordinary point of view we now inquire as to the “longitudinal”\\nand the “transverse” mass of the moving electron. We write the equations (A)\\nin the form\\n\\nmeee = & = €X’,\\n«3 (Y — 2N)\\n')\n",
      "(163, 1, 163, '6B(Z+2M) = eZ’,\\n\\nforce might be measured, for example, by a spring balance at rest in the last-\\nmentioned system.) Now if we call this force simply “the force acting upon the\\n\\n21\\n\\n\\n\\nelectron,”® and maintain the equation—mass x acceleration = force—and if ')\n",
      "(164, 1, 164, 'we\\nalso decide that the accelerations are to be measured in the stationary system\\nK, we derive from the above equations\\n\\nLongitudinal mass\\nTransverse mass\\n\\nWith a different definition of force and acceleration we should naturally\\nobtain other values for t')\n",
      "(165, 1, 165, 'he masses. This shows us that in comparing different\\ntheories of the motion of the electron we must proceed very cautiously.\\n\\nWe remark that these results as to the mass are also valid for ponderable\\nmaterial points, because a ponderable material point ca')\n",
      "(166, 1, 166, 'n be made into an elec-\\ntron (in our sense of the word) by the addition of an electric charge, no matter\\nhow small.\\n\\nWe will now determine the kinetic energy of the electron. If an electron\\nmoves from rest at the origin of co-ordinates of the system K alo')\n",
      "(167, 1, 167, 'ng the axis\\nof X under the action of an electrostatic force X, it is clear that the energy\\nwithdrawn from the electrostatic field has the value f ¢X dz. As the electron is\\nto be slowly accelerated, and consequently may not give off any energy in the\\nform ')\n",
      "(168, 1, 168, 'of radiation, the energy withdrawn from the electrostatic field must be put\\ndown as equal to the energy of motion W of the electron. Bearing in mind that\\nduring the whole process of motion which we are considering, the first of the\\nequations (A) applies, ')\n",
      "(169, 1, 169, 'we therefore obtain\\n\\nWwW [xae= mf Bu dv\\n(1\\n\\n: 1\\nme? { i} :\\n\\nThus, when v = c, W becomes infinite. Velocities greater than that of light\\nhave—as in our previous results—no possibility of existence.\\n\\nThis expression for the kinetic energy must also, by virt')\n",
      "(170, 1, 170, 'ue of the argument\\nstated above, apply to ponderable masses as well.\\n\\nWe will now enumerate the properties of the motion of the electron which\\nresult from the system of equations (A), and are accessible to experiment.\\n\\n1. From the second equation of the s')\n",
      "(171, 1, 171, 'ystem (A) it follows that an electric\\nforce Y and a magnetic force N have an equally strong deflective action on an\\nelectron moving with the velocity v, when Y = Nu/c. Thus we see that it is\\npossible by our theory to determine the velocity of the electron')\n",
      "(172, 1, 172, ' from the ratio\\n\\n°The definition of force here given is not advantageous, as was first shown by M. Planck.\\nIt is more to the point to define force in such a way that the laws of momentum and energy\\nassume the simplest form.\\n\\n\\n\\nof the magnetic power of def')\n",
      "(173, 1, 173, 'lexion A,, to the electric power of deflexion Ae, for\\nany velocity, by applying the law\\n\\nThis relationship may be tested experimentally, since the velocity of the\\nelectron can be directly measured, e.g. by means of rapidly oscillating electric\\nand magneti')\n",
      "(174, 1, 174, 'c fields.\\n\\n2. From the deduction for the kinetic energy of the electron it follows that\\nbetween the potential difference, P, traversed and the acquired velocity v of the\\nelectron there must be the relationship\\n\\n[xae= maf\\n€\\n\\n3. We calculate the radius of c')\n",
      "(175, 1, 175, 'urvature of the path of the electron when a\\nmagnetic force N is present (as the only deflective force), acting perpendicularly\\nto the velocity of the electron. From the second of the equations (A) we obtain\\n\\nThese three relationships are a complete expres')\n",
      "(176, 1, 176, 'sion for the laws according\\nto which, by the theory here advanced, the electron must move.\\n\\nIn conclusion I wish to say that in working at the problem here dealt with\\nI have had the loyal assistance of my friend and colleague M. Besso, and that I\\nam indeb')\n",
      "(177, 1, 177, 'ted to him for several valuable suggestions.\\n\\n\\n\\nABOUT THIS DOCUMENT\\n\\nThis edition of Einstein’s On the Electrodynamics of Moving Bodies is\\nbased on the English translation of his original 1905 German-language paper\\n(published as Zur Elektrodynamik bewegte')\n",
      "(178, 1, 178, 'r Kérper, in Annalen der Physik.\\n17:891, 1905) which appeared in the book The Principle of Relativity, pub-\\nlished in 1923 by Methuen and Company, Ltd. of London. Most of the\\npapers in that collection are English translations from the German Das Rela-\\ntiv')\n",
      "(179, 1, 179, 'atsprinzip, 4th ed., published by in 1922 by Tuebner. All of these sources\\nare now in the public dom. his document, derived from them, remains in\\nthe public domain and may be reproduced in any manner or medium without\\npermission, restriction, attribution,')\n",
      "(180, 1, 180, \" or compensation.\\n\\nNumbered footnotes are as they appeared in the 1923 edition; editor's\\nnotes are marked by a dagger ({) and appear in sans serif type. The 1923\\nEnglish translation modified the notation used in Einstein’s 1905 paper to\\nconform to that in\")\n",
      "(181, 1, 181, \" use by the 1920's; for example, c denotes the speed of\\nlight, as opposed the V used by Einstein in 1905.\\n\\nThis edition was prepared by John Walker. The current version of this\\ndocument is available in a variety of formats from the editor's Web site:\\n\\nhtt\")\n",
      "(182, 1, 182, 'p://www.fourmilab.ch/\\n\\n\\n')\n",
      "(183, 2, 1, '\\nJerome Loria\\nBSCS-3A\\nActivity 6\\n\\n@ Program visualization Tools Help ‘Weka GU Choaser - 0 x\\n‘Applications\\n\\nExperienter\\n\\nKrowledgeFiow:\\n\\nWestern Weka,Galallus sutras australis, collected 16 Apel\\n\\nSimple CU.\\n\\neG 210 om\\nAs FF © cznnzia D\\n\\nThis is my Weka ins')\n",
      "(184, 2, 2, 'tallation.\\n\\n\\n')\n",
      "(185, 3, 1, '\\nDraft. Not to be cited without author’s permission.\\n\\nMaria V. Stanyukovich\\n\\nmstan@kunstkamera.ru\\n\\nPeter the Great Museum of Anthropology and Ethnography\\n(Kunstkamera), Russian Academy of Science\\n\\nUniversity Embankment 3\\n\\nSt.Petersburg, Russia\\n\\nFactors af')\n",
      "(186, 3, 2, 'fecting stability/variability of the Ifugao hudhud*\\n\\nIam honored to represent here St.Petersburg, Russia, where Ifugao studies in\\ngeneral and Hudhud studies in particular began as early as 1930. First Ifugao\\nHudhud chants transcribed by a Russian ethnomus')\n",
      "(187, 3, 3, 'icologist Zinaida Evald were\\ncollected by Roy Franklin Barton, one of the three most prominent students of\\nIfugao culture — I refer to Juan Villaverde, Roy Franklyn Barton and Harold\\nConklin.\\n\\nThe best and the only bibliographic source on early hudhud Ifu')\n",
      "(188, 3, 4, 'gao studies is a\\nsuperb “Ifugao bibliography” by Harold Conklin [Conklin 1968]. However, most\\nof works on hudhud listed by Dr. Conklin still remain unpublished. In late 1970s,\\nwhen I started my research in Hudhud [Stanyukovich 1981, 1983a, 1983b), only 4\\n')\n",
      "(189, 3, 5, 'hudhud texts have been published by C.I.C.M. missionary Father Francis\\nLambrecht in collaboration with Lourdes Dulawan [Lambrecht 1957, 1960,\\n1961,1967]. The fifth text appeared in publication in 1983 [Daguio 1983]. Even\\nmuch later, in 1995, when I stayed')\n",
      "(190, 3, 6, ' nearly a year in Ifugao, only few enthusiasts\\nregarded hudhud worth recording, transcribing and studying — apart from Mr. Juan\\nDait Jr. [Dait 1957], Adriana Saquing [Saquing 1991] and late Mrs. Lourdes\\nDulawan, who primarily deserves the credit for Hudhu')\n",
      "(191, 3, 7, 'd studies [Dulawan 1993,\\n1993, 1995, 1995, 2005].\\n\\nEver since 2001, when it was recognized by UNESCO as a “Masterpiece of the\\nOral and Intangible Heritage of Humanity”, Hudhud is in the center of interest of\\nUNESCO, NCCA, National Museum, National Commiss')\n",
      "(192, 3, 8, 'ion on Tribal Rituals and\\nPractices, as well as Ifugao intellectuals. Hudhud contests are being organized, to a\\nlot of joy of the aged people who partake in singing. The hudhud singers are\\nbecoming “stars” of national and even international level: they pe')\n",
      "(193, 3, 9, 'rform as far as in\\nManila and even abroad. The first of three “faces” has already been completed by\\nIfugao School of Living Traditions, headed by Mr. Manuel Dulawan, which\\nimplies teaching 5 local “standardized” hudhud varieties together by a munhaw-e -\\nt')\n",
      "(194, 3, 10, 'he hudhud soloist and a schoolteacher. Less then a week ago (January 11, 2006)\\nan international colloquium “Hudhud and Noh: A Dialogue of Cultures” took place\\n\\n\\n\\nin UP Diliman. Ngayaw (Domingo Dulnuan), a munhaw-e from Bangawwan,\\nDuit, Kiangan, a small si')\n",
      "(195, 3, 11, 'tio which I consider my second home since 1995 — was\\nperforming with the chorus formed by other Kiangan dwellers. One of the positive\\nresults of such an activities is taping the hudhud for “publicizing” it. A publication\\nwhich was disseminated at “Hudhud ')\n",
      "(196, 3, 12, 'and Noh” event contains 2 discs of hudhud\\nsung by the same group, with their photographs (without names or references)\\ninserted in an extract from Lambrecht’s 1957 hudhud publication [Hudhud.\\nNCCA-IHC 2005]. Previously published hudhud texts, mostly the A')\n",
      "(197, 3, 13, 'mador Daguio\\nversion, was re-published in several anthologies in Ifugao, English and even in\\nTagalog translation. Two papers on hudhud appeared in the Philippines due to the\\nefforts of Nicole Revel [Revel, Tourny 2003; Dulawan 2005].\\n\\nA certain amount of ')\n",
      "(198, 3, 14, 'research papers on hudhud, largely unknown inside the\\nPhilippines, appeared in the US, France and Russia [Menes 1996; Revel,\\nStanyukovich 2004; Stanyukovich 1996, 1997a, 1997b, 1998a, 1998b, 1999a,\\n1999b, 2000, 2002, 2003a, 2003b, 2003c, 2004, 2005]. Howe')\n",
      "(199, 3, 15, 'ver, no new\\npublications** of hudhud texts was made during these years (apart from 2 pages by\\nPatricia Afable [Afable 2005]). The text and translation of Alim, another Ifugao\\nritual chant which is of great importance to Hudhud studies, especially in respe')\n",
      "(200, 3, 16, 'ct to\\nritual language, is still being prepared for publication by Rosario del Rosario\\n[Rosario 2003].\\n\\nAn alarming result of large-scale activities around hudhud is a very fast formation\\nof “censored” new code of hudhud, which will soon become an unquesti')\n",
      "(201, 3, 17, 'onable\\nauthority to be quoted by everybody.\\n\\nGeneral sketch of this view on hudhud is as follows:\\n1. There is only one kind of hudhud — hudhud of rice, which is sung on\\ndifferent occasions\\n2. Itis a strictly non-ritual tradition used exclusively for enter')\n",
      "(202, 3, 18, 'tainment\\n3. Hudhud consists of 40 episodes and takes one or 2 nights to perform\\n4. There are regional variations that differ from each other in lexica only\\n\\nA valuable contribution of Arsenio Manuel that has put hudhud in ritual context of\\nPhilippine epic')\n",
      "(203, 3, 19, 's as early as in 1963 [Manuel 1963], as well as other important\\nPhilippine works on ritual functions of oral epics (Landa Jocano, Alicia Magos et\\nal) seem to be totally neglected in hudhud studies nowadays.\\n\\nSurely we can talk about hudhud in general, as ')\n",
      "(204, 3, 20, 'much as we can talk about\\nPhilippine or Austranesian languages in general. However, XX] th c. requires a\\nmore detailed study - that is, of particular hudhud genres, regional, ritual and\\nsituational variations of hudhud. Otherwise we shall end up with a ne')\n",
      "(205, 3, 21, 'w Lennrot’s\\n“Kalevala” or Longfellow’s “ Song of Hiawatha”, which is already on the way.\\n\\n\\n\\nThe most ancient genres of oral literature date back to the time when one ritual\\nspecialist performed the functions of epic singer, shaman and priest. The Ifugao\\nh')\n",
      "(206, 3, 22, 'udhud oral tradition belongs to the core of Southern and Central [fugao ritual .\\n\\nThe hudhud meets all the standards typical of heroic epic patterns, including the\\nplot structure and formulaic style. In the same time it is a highly archaic\\ncombination of ')\n",
      "(207, 3, 23, 'heroic epics and shamanistic narratives. The hudhud characters are\\nregarded as ancestors and incorporated into the male pantheon as part of Hulupe\\nclass of benevolent deities.\\n\\nFor research purposes we are to distinguish between hudhud proper, that is, th')\n",
      "(208, 3, 24, 'e\\nheroic epic, a story about ancestors and their exploits, and hudhud-shaped ritual\\nnarratives, that is, hudhud di kolot (nudhud of the haircut, a passage rite), hudhud\\ndi nate (hudhud of the dead, funeral wake and begwa —second burial ceremony)\\nand, poss')\n",
      "(209, 3, 25, 'ibly, wedding hudhud (that last one I myself never heard or recorded and\\ntherefore can not state positively that it really exists). These ritual narratives use\\nhudhud form (melody, way of performing, lexics, including personal names and\\nplace-names, poeti')\n",
      "(210, 3, 26, 'c structure and rhetorics) but actually treat not about hero-\\nancestors, but about certain members of Ifugao community, alive or dead, to\\nwhom personally the ritual is addressed. Not being epics, these additional genres\\nare of vital importance internally ')\n",
      "(211, 3, 27, 'and externally, that is, to the Ifugao traditional\\ncommunity and to ethnolinguistic/ ethnopoetic study of Ifugao hudhud. For\\ntraditional Ifugao community it was primarily these genres, marginal or additional\\nfor an epic student, that mattered. For example')\n",
      "(212, 3, 28, ', it is a performance of the hudhud\\ndi nate that requires the most skillful hudhud singer. Such a singer is\\nknowledgeable in all the forms of hudhud and highly respected. In the same time\\nthe munhaw-e (soloist), who can who only perform heroic epic (hudhu')\n",
      "(213, 3, 29, 'd di\\n‘ani\\\\hudhud di page), is subordinate. Such a singer might acquire the sacred\\nknowledge that will enable her to sing hudhud di nate only if the spirits would\\nchoose her. In that case she will be promoted to the highest level of proficiency. If\\nnot, sh')\n",
      "(214, 3, 30, 'e will remain “a professional of a lower qualification”. In other words, the\\nheroic epic singing which is generally considered the treasure outside Ifugao is just\\na preliminary stage on the way to higher level of knowledge, needed for\\nperforming the genre')\n",
      "(215, 3, 31, 's that seem to be marginal, peripheral to an outsider. The truly\\nknowledgeable person dominates the whole picture of which the heroic epic\\nhudhud is the lest significant part. The highest degree of knowledge is required to\\nperform “hudhud di nate” (funera')\n",
      "(216, 3, 32, 'l song/the song of the dead), which I was lucky\\nto find and record in the areas to the South of Kiangan. It a shamanistic chant\\nperformed just as epic, “pushing” the soul to the abode of the dead. Before it\\nreaches the underworld, the souls of one or two ')\n",
      "(217, 3, 33, 'relatives who participate in the\\nchant are send to catch up with it. They are endowed with awil — gifts of souls of\\nrice, pigs and chickens (the underworld being the source of fertility) by the\\ndeceased. The moment when they meet is marked by the possessi')\n",
      "(218, 3, 34, 'on. The chant\\n\\n\\n\\nuses the epic melody and formulaic language; the deceased is named by\\nappropriate epic hero’s name.\\n\\nComing back to heroic epic versions of hudhud.\\n\\nThere is hardly such a thing as pure entertainment in traditional culture, as much as\\nthe')\n",
      "(219, 3, 35, 're is hardly any kind of art worldwide that is not rooted in traditional pre-\\nChristian beliefs and ritual practices. At closer look any entertaintment genre\\nappears to be functional.\\n\\nIn regard to hudhud di qani, the heroic epic hudhud, there are at leas')\n",
      "(220, 3, 36, 't three\\nfunctions. One is that of labor song, that keeps all the weeders/ harvesters work in\\nunison, just as they sing in unison. The second is connected with the idea of\\nmiraculous increase of rice which is supposed to be triggered by hudhud singing in\\nt')\n",
      "(221, 3, 37, 'he rice field. The hudhud characters who are halupe-deities are supposed to listen\\nto hudhud singing in the field and to be pleased by it. Pumbakhayon, one of the\\nhudhud characters who taught the hudhud songs to Ifugao ancestors did it in the\\nrice field f')\n",
      "(222, 3, 38, 'or the harvesters. It is much telling that hudhud di qani is only\\nperformed when dealing with traditional Ifugao varieties of rice. The lowland\\nvarieties, very wide-spread nowadays in Ifugao, have no ritual value. Be hudhud\\njust an entertainment or even j')\n",
      "(223, 3, 39, 'ust a labor song, it would be sung during any\\nactivities in the fields, that require team work.\\n\\nThe third function has to do with gender. The female ideology that looks so much\\nout-of-place in the genre of the heroic epic is one of the most striking\\nchar')\n",
      "(224, 3, 40, 'acteristics of the hudhud. It emerges that while male epic concentrates on\\nviolence, expressed through a system of head-hunting which is based on rage,\\nenmity and vengeance, female epic concentrates on the problem of peacemaking\\nand represents a tradition')\n",
      "(225, 3, 41, ' of heroic exploits in which no blood is split whatsoever.\\nAfter a series of battles during which no one is either killed or wounded the\\nprinciple hudhud characters exchange sisters and celebrate a double marriage. That\\nmeans a total elimination of enmity')\n",
      "(226, 3, 42, ': the next generation will have no enemies\\n[Stanyukovich 2000]. Handih wandi, in the former Ifugao headhunting society,\\nfemale hudhud epic chants were believed to induce peaceful solutions of ever-\\nlasting inherited vengeance cases.\\n\\nWe might go here for ')\n",
      "(227, 3, 43, 'comparison of the characters of male and female Ifugao\\nnarratives and its impact on everyday life of Ifugao. In 1930s R.F.Barton has\\ntranscribed and translated a male-performed ritual text which he called “The Virgin\\nbirth”, by the way, of classical heroi')\n",
      "(228, 3, 44, 'c epic plot, but very different from hudhud,\\nwith lots of killings [Barton 1955]. The feedback from the Ifugao old people to\\nwhom I read the text in 1990s was that it is hagoho, quite a dangerous ritual text,\\nwhich can cause extremely negative sequences. ')\n",
      "(229, 3, 45, 'One informant told me about the\\ncase of land dispute between her family and the other one. The text was ritually\\nperformed to have solve a case with hagoho. The family of my informant lost the\\ncase, because hagoho-deities afflicted it with diseases, and o')\n",
      "(230, 3, 46, 'ne child even died.\\n\\n\\n\\nThat was an example of using classic male heroic-epic plotted ritual text (though\\nwe can not call it proper epics because it is performed as abuwab, a ritual myth).\\nHudhud epic characters — Aliguyun, Guminigin, Daulayan, Bugan, Agin')\n",
      "(231, 3, 47, 'aya and\\nothers — are also addressing directly for help in present-day Ifugao, but they never\\ncause harm. They belong to hudhud with its peaceful ideology, they are “Halupe\\nma’ule”, benevolent deities, that form the main part of pantheon of so-called\\nfemal')\n",
      "(232, 3, 48, 'e religion, halag. However, they are addressed as well by male priests on\\noccasions connected to love charms, claiming debts and — a recent but very\\nimportant function — winning the elections.\\n\\nSecond, we are to distinguish between stability\\\\variability i')\n",
      "(233, 3, 49, 'n tradition and\\nstability\\\\\\nvariability in transition.\\n\\nThe traditional Audhud, with its amazingly rigid plot structure and abundance of\\nformulas which form about 70% of the text, belongs among the most codified of\\nthe world’s oral epics. Two main factors ')\n",
      "(234, 3, 50, 'have provided for its stability: the mode\\nof performing (.e., participation of a chorus); and requirements on the soloist,\\nbased on the ritual nature of hudhud singing.\\n\\nThe soloist (munhaw’e) leads the song and “commands” the choristers\\n(munhudhud) as to')\n",
      "(235, 3, 51, ' when to come in by rising the tone in the initial word of a\\nformula. The role of the chorus, though essential (a soloist can not perform without\\na chorus), is totally subordinate. The part of the chorus is composed entirely of\\nformulas, the choice of whi')\n",
      "(236, 3, 52, 'ch is made by soloist. The soloist is, therefore, the only\\ncreative force in a hudhud performance. All the variability lies in the part of the\\nsoloist, which is very low in formulas. Traditionally, hudhud singers were regarded\\nas bearers of sacred knowled')\n",
      "(237, 3, 53, 'ge of the ancestors, and required to transmit\\n“inherited” texts without variation.\\n\\nIn my abstract I pointed out two types of changes caused by modern influences.\\nFirstly, the part of soloist (i.e., the hudhud plot), undergoes radical changes: battles\\ntha')\n",
      "(238, 3, 54, 't once formed the core of the plot are omitted, with gaps being filled by novel\\nmotifs. The part of the chorus, on the other hand, remains much more stable, as the\\nmunhudhud only use traditional formulas. A considerable number of these\\nformulas are droppe')\n",
      "(239, 3, 55, 'd, however, with the abandonment of traditional topics.\\n\\nI have already pointed out traditional seasonal and situational variations in Hudhud\\nsinging.\\n\\nRegional variations include variation in language (lexica), regulations on repertoire\\nattached to certa')\n",
      "(240, 3, 56, 'in occasions and the range of restrictions on performing. The farer\\nSouth we go, the stronger are the restrictions. For instance, in Asipulo only the\\nrepresentatives of kadangyang families can be honored with hudhud di nate,\\n\\n\\n\\nfuneral hudhud, whereas in ')\n",
      "(241, 3, 57, 'Amganad any old person who died natural death can be\\nhudhud-ed during the funeral wake. People living on the boundary of Asipulo and\\nKiangan distinguish between the hudhud versions sung for a man or a woman,\\nyounger or older (that is, younger or older bak')\n",
      "(242, 3, 58, 'et\\\\lakay, old man\\\\woman, as hudhud\\nis never sung for people whose life is interrupted in young or middle age). This\\nchoice is different from that made, say, in Ibulaw.\\n\\nThe municipality of Asipulo, which until recently (1995) formed a part of Kiangan,\\nis ')\n",
      "(243, 3, 59, 'inhabited by the speakers of Keley-i, a Southern Cordilleran language, closely\\nrelated to Kallahan, spoken in Kayapa and Santa Fe of Nueva Viscaya. The Keley-i\\nspeaking population of this remotest area of Ifugao province is regarded as “wild”\\nand inferior')\n",
      "(244, 3, 60, \" by the rest of Ifugaos, though there is strong evidence that a large\\nportion of the traditional cultural wealth of Ifugaos is of Keley-i origin.\\n\\nSpeaking of stability\\\\variability in transition, I'd like to name three important areas\\nwhere the changes ar\")\n",
      "(245, 3, 61, 'e towards impoverishment of formerly rich tradition. They\\nare:\\n\\n1. Loosing battle scenes. The detailed depiction of hudhud battles, always three in\\nnumber, used to form the major part traditional heroic epic hudhud narrative.\\nEverything associated with a ')\n",
      "(246, 3, 62, 'long-abandoned practice of headhunting is still a\\nsensitive point. In “export” versions for “outsiders” primarily, and gradually for\\ninternal use as well, headhunting motifs tend to be abandoned.\\n\\n2. The same considerations are true to all hudhud motifs c')\n",
      "(247, 3, 63, 'onnected to performance\\nof traditional rituals, as well as magical and shamanistic powers with which the\\nmain character is endowed.\\n\\n3. Loosing the poetics of combining high and low style, of heroic and farce\\nelements.\\n\\nIn Kiangan and other areas where no')\n",
      "(248, 3, 64, 't the shamanistic chant but a heroic epic\\nhudhud is sung during funeral wakes, smooth monotony of the hudhud, so much\\ncharacteristic of heroic epic, is interceded by occasional breaks of aapo singing.\\nTired munhaw-e and munhudhud can rest a bit while othe')\n",
      "(249, 3, 65, 'rs — anyone from the\\naudience — stands up and starts singing the lyrics, the aapo, usually accompanied\\nby dancing movements. These funny little songs, often improvised, make\\neverybody laugh. Often they rotate around the topics of love and silly mistakes i')\n",
      "(250, 3, 66, 'n\\nlove. When hudhud is performed for taping or at the concert, these little songs are\\ndropped, so they never appear in publications.\\n\\nFinally, gender roles are being changed.\\n\\nTraditional hudhud performances are mostly very informal: just during the\\nworki')\n",
      "(251, 3, 67, 'ng time, both the soloists and the choir being at weeding or harvesting. The\\nmore popular hudhud becomes as touristic commodity, the more men step in in\\nperforming.\\n\\n\\n\\nI’d like to finish my paper with some considerations on regard of the influence of\\nrese')\n",
      "(252, 3, 68, 'arching, teaching and popularizing the Ifugao hudhud on the tradition itself.\\nFour years ago I was honored to give a key-note speech at the conference on\\nPreservation and conservation of culture of Southeast Asia, which took place at the\\nUniversity of Haw')\n",
      "(253, 3, 69, 'ai’ at Manoa. My paper was about the Hudhud tradition. That\\nwas the time when, when the process of “globalization” of Hudhud just began. I\\nshall permit myself to quote from that 4-year-old paper:\\n\\n“The first question is, what kind of hudhud will be suppor')\n",
      "(254, 3, 70, 'ted? That is more or less\\nclear. It will be hudhud di qani, or hudhud di page — hudhud of the harvest or\\nhudhud of rice. I doubt that there are any chances for other genres of hudhud — say\\nhudhud of the haircut or hudhud of the dead. I can guess that ther')\n",
      "(255, 3, 71, 'e will be a lot of\\ntouristic entertainment things initiated. The recently established school of\\ntraditional arts will probably teach the Kiangan heroic epic versions of Hudhud.\\nOne of the results might be the formation of Ifugao literary language o the ba')\n",
      "(256, 3, 72, 'sis of\\nKiangan (Tuwali) dialect. The scenarios of epic performances supported by\\nauthorities might be quite different. Possibly ‘politically correct” versions of heroic\\nepics without any traces of shamanism and no spirit possessions will be shaped.\\nAnothe')\n",
      "(257, 3, 73, 'r possibility is developing hudhud into a pasyon to be performed in church\\nby the members of Catholic Women organization (the work has already started in\\nearly 1990s and some of these Hudhud Pasyon were even sung during Easter). One\\nmore possibility is th')\n",
      "(258, 3, 74, 'at Hudhud will be staged for tourists, in which case the\\nsensational moments, especially the headhunting will be emphasized. Such things\\nare always expected of Ifugaos and are highly valued in touristic market. I even\\ncan not exclude the possibility of in')\n",
      "(259, 3, 75, 'troducing killings and beheadings into that new\\nstaged Hudhud, which will entirely change the ideology of that unique heroic epic\\ntradition without bloodshed”\\n\\nAs you see, many things happened as was predicted, but fortunately my worse\\nexpectations did no')\n",
      "(260, 3, 76, 't come true. Killing scenes are not introduced. Regional\\nvariations are preserved. However, the formation of standardized texts for the\\nschoolchildren is alarming. Surely the teaching process needs some\\nstandardization and control, but we must keep in min')\n",
      "(261, 3, 77, 'd that it is a step away from\\nimprovising, that is, killing the treasure of a living tradition, and it is its oral\\ncharacter that makes hudhud so exceptional.\\n\\nIam grateful to Ifugao authorities and intellectuals that guard their cultural\\nheritage from be')\n",
      "(262, 3, 78, 'ing brutally used and sensationalized for the sake of the tourist\\nmarket. I appreciate greatly the efforts being made for bringing back high respect\\nto the real artists — munhudhud and especially munhaw-e, who are not any more\\nregarded “ignolante” and use')\n",
      "(263, 3, 79, 'less, for teaching the children to be proud of their\\ncultural heritage, for documentation of hudhud tradition. But I take a chance to\\npoint out that it is not an easy task, and its fulfillment requires highest level of\\nlinguistic and anthropological quali')\n",
      "(264, 3, 80, 'fication. Otherwise only a faint shadow of the\\ngorgeous masterpiece called “living oral hudhud” will be left for the future\\ngenerations.\\n\\n\\n\\n* Tam very grateful to SIL, Philippines and personally Dr. Stephen Quackenbush\\nfor giving me travel grant that enab')\n",
      "(265, 3, 81, 'led me to participate in 10 ICAL. Ialso take an\\nopportunity to thank SIL members, primarily Len Newell, Lou Hohulin, Anne\\nWest, Tom Headland and other SIL friends and colleages for their long-time\\nsupport in regard to Philippine linguistics.\\n\\nThis paper u')\n",
      "(266, 3, 82, 'ses materials which I collected during fieldwork funded by Wenner-\\nGren, USA, and Evans Foundation, UK\\n\\n**My book on Ifugao hudhud “Female view of male world”, dedicated to the study\\nof ritual connections, plot construction and motif variations in hudhud ')\n",
      "(267, 3, 83, 'tradition is\\ncurrently in press and will come out in a couple of months. I am also working now\\non 4 hudhud texts transcribed by late Mrs Dulawan in collobaration with Patricia\\nAfable and Nicol Revel; I also work in collobaration with my teacher, Dr.\\nGenna')\n",
      "(268, 3, 84, 'dy Rachkov, one of my students, Oleg Smirnov, and a group of Russian\\nethnomusicologists on hudhud tapes which I recorded in 1995. We hope to submit\\nthem for publication in recent future.\\n\\nReferences\\n\\nAFABLE Patricia O. 2003. Bugan nak Panga’iwan. [Edited ')\n",
      "(269, 3, 85, 'Lourdes Dulawan’s\\ntranscribtion of Ifugao text and translation into English]. Ms.\\n\\n2005. Ifugao Hudhud: Bugan nak Panga’iwan. “Bugan, Panga’iwan’s\\nchild”. [Abstract from Edited Lourdes Dulawan’s Transcribtion of Ifugao text and\\ntranslation into English]. ')\n",
      "(270, 3, 86, '\\\\\\\\Anthology. Literature of Voice. Epics in the Philippines.\\nRevel Nicole, ed. 2005. Ateneo de Manila University, Quezon City, pp. 160-161\\n\\n\\n\\nBarton, Roy Franklin 1946. The religion of the Ifugaos. American Anthropologist,\\nN.S., vol. 48, No 4, Part 2, 219 ')\n",
      "(271, 3, 87, 'pp.\\n\\n1955. The Mythology of the Ifugaos. Memoirs of the American\\nFolklore Society, vol.46, pp. 1 -244.\\n\\nBeyer, William G. 1954. Hudhud, tape-recorded in Amganad, Banaue. 20 reels.\\nSingers: Pugung Malayyu and five others. About 40 songs (DA; incomplete). C')\n",
      "(272, 3, 88, 'ite\\nafter: Conklin 1968.\\nChungalao, Rufino 1948. The Ifugao hudhud. 26 typescript pp. [Ifugao.]. Cite\\nafter: Conklin 1968.\\nConklin , Harold C. 1968. Ifugao bibliography. Bibliography Series No 11,\\nSoutheast Asia Studies, Yale University\\n\\n1980. Ethnographi')\n",
      "(273, 3, 89, 'c Atlas of Ifugao: A study of Environment, Culture and\\nSociety in Northern Luzon. New Haven: Yale University.\\nDaguio, Amador Taguinod 1952. Hudhud hi Aliguyon: a translation of an Ifugao\\nharvest song. M.A. thesis, ms., Stanford University, 121 pp. HRAF. C')\n",
      "(274, 3, 90, 'ite after:\\nConklin 1968.\\n\\n1963. The harvest song of Aliguyon. [The version sung by Hinayup\\nBantayan of Burnay and transcribed in Ifugao about 1937. Rendered into English\\nverse by Amador T.Daguio.] Sunday Times Magazine 18. (February 24), pp.10-15.\\nManila.')\n",
      "(275, 3, 91, 'Film.An.M314. Cite after: Conklin 1968.\\n\\n1983. Hudhud hi Aliguyun. In: J.V.Castro, A.T.Antonio et al. Epics of\\nthe Philippines. Anthology of the ASEAN literatures, vol.1. Quezon City, pp.17-66\\nDait, Juan B., Jr. 1957 Ifugao life and epics. Saturday Mirror')\n",
      "(276, 3, 92, ' Magazine (October\\n12), pp. - Manila. Film. D1449. Cite after: Conklin 1968.\\n\\nDamiana, Euhenio. Philippine Epics.??\\n\\nDulawan, Lourdes 8. 1993. Aliguyun nak Amtalao. [Transcribed Ifugao text and\\ndraft translation into English]. Ms. Ateneo de Manila Univers')\n",
      "(277, 3, 93, 'ity\\n\\n1993 Aliguyon nak Binenwahen. [Transcribed Ifugao text and draft\\ntranslation into English]. Ms. Ateneo de Manila University\\n\\n\\n\\n1995 Bugan an Imbayagda. [Transcribed Ifugao text and draft translation\\ninto English]. Ms. Ateneo de Manila University\\n\\n199')\n",
      "(278, 3, 94, '5 Bugan nak Pangaiwan. [Transcribed Ifugao text and draft translation\\ninto English]. Ms. Ateneo de Manila University\\n\\n2005. Singing Hudhud in Ifugao. \\\\\\\\Literature of Voice. Epics in the\\nPhilippines. Revel Nicole, ed. Pp. 115-124\\n\\nHudhud 2005. UNESCO Procl')\n",
      "(279, 3, 95, 'aimed Masterpiece of the Oral and Itengible\\nHeritage of Humanity. NCCA-IHC [Two discs of Bugan ke Aliguyun hudhud and\\nan abstract from Lambrecht 1957].\\n\\nDAGUIO Amador T. 1983. Hudhud hi Aliguyun. In: Epics of the Philippines.\\nAnthology of ASEAN literature')\n",
      "(280, 3, 96, 's, vol I. Ed. by J.V. Castro, A.T. Antonio et al.\\nEDSA, Quezon City, pp. 17-66.\\n\\nDait, Juan B., Jr. 1957 Ifugao life and epics. Saturday Mirror Magazine (October\\n\\n12), Manila. Cite after: Conklin 1968.\\n\\nLambrecht, Francis 1930-1932. The Ifugao sagas or hu')\n",
      "(281, 3, 97, 'dhud. Little Apostle of the\\nMountain Province (December 1930) 7.7; (April 1932) 8.11. Baguio. (DA). Cite\\nafter: Conklin 1968\\n\\n[1932-1934?]. The saga of Aginanga. Little Apostle of the Mountain\\n\\nProvince. Baguio. Cite after: Conklin 1968\\n\\n1934. The saga of')\n",
      "(282, 3, 98, ' Guiminigin and Bugan, his sister. Little Apostle of\\nthe Mountain Province. Baguio. 02; 04; 10.9, pp. 264-272; 10.10, pp. 300-302;\\n\\n1957. Ifugao epic story: /hudhud/ of Aliguyun at Hananga. University of\\nManila Journal of East Asiatic Studies, vol. 6, No.')\n",
      "(283, 3, 99, \" 3-4, pp. 1-203.\\n1958 Ifugao ballads. Reprinted from Philippine Magazine in Univ. of\\n\\nManila Journal of East Asiatic Studies, vol. 7, N 2, pp.169-207. Manila. DS501.J6.\\nCite after: Conklin 1968, p.44.\\n\\n1960. Ifugaw hu'dhud. /Hudhud/ of Aliguyun who was bo\")\n",
      "(284, 3, 100, \"red by the rustle\\nof the palm tree at Aladugen. Folklore Studies, Tokyo, vol. 19, pp. 1-174.\\n\\n1961. Ifugaw hu'dhud (continued). /Hudhud/ of Bugan with whom the\\nravens flew away, at Gonhadan. Folklore Studies, Tokyo, vol. 20, pp. 136-273.\\n\\n\\n\\n1965. Ifugao /\")\n",
      "(285, 3, 101, 'hudhud/ literature. - Saint Louis Quarterly, Baguio, vol. 3,\\nNo. 2, pp. 191-214.\\n\\n1967. The /hudhud/ of Dinulawan and Bugan at Gonhadan. Saint\\nLouis Quarterly, vol. 5, No. 3-4, pp. 267-713\\n[Leon of Kutug] ca.1902. Extract from the \"Munhudhud\" ...obtained ')\n",
      "(286, 3, 102, 'from Leon of\\n\\nKutug, an Ifugao from Kiangan... \"Transcribed by a civilized Gaddang.\" With a\\npreface by H.O.Beyer. Barrio of Kutug, Bayombong, Nueva Viscaya. Typed\\ncopy.2,8 pp. BF 14/9.19 Cite after: Conklin 1968.\\n\\nLiterature of Voice. Epics in the Philipp')\n",
      "(287, 3, 103, 'ines. 2005. Ateneo de Manila University,\\nQuezon City. Revel Nicole, ed. 202 pp.\\n\\nManuel, Arsenio 1963. Survey of Philippine epics. Asian Folklore Studies 22:9-28\\n\\nMenes, Herminia 1996. Female Warriors in Philippine Oral Epics...// Herminia\\nMen~es. Explora')\n",
      "(288, 3, 104, 'tions in Philippine Folklore. Ateneo de Manila Press, Quezon\\nCity 1996, pp. 25-38.\\n\\nRevel Nicole, Tourny O. 2003. A Poetic and Musical approach to Sung Narratives.\\nA Comparison Between Ifugao Hudhud and Sama Dilaut kata-kata of Tawi-Tawi\\n(Philippines)\\\\\\\\ A')\n",
      "(289, 3, 105, ' search in Asia for New Theory of Music, Quezon City. Jose\\nBuemconcejo, ed. Pp. 310-30\\n\\nRevel Nicole, Stanyukovich Maria. 2004. The role of the epic singer and epic hero\\nin traditional power structures of the Philippines. In: Hierarchy and Power in the\\nHi')\n",
      "(290, 3, 106, \"story of Civilizations. Abstracts of the third International Conference (Moscow,\\nJune 18-21, 2004). P.151\\n\\nRosario del Rosario. 2003? The Ifugao ‘Alim as Gendered Discourse. Ph.D. MS\\n200 p.t+ 5 appendixes, including ‘Alim Text , 41 p., and Glossary of 'Al\")\n",
      "(291, 3, 107, 'im Words,\\nT7p.\\n\\nSaquing, Adriana 1991. Hudhud da Aliguyun ke Dinoy-agan. (Hudhud of\\nAliguyun and Dinoy-agan). A thesis presented to the faculty of the graduate\\nschool. Nueva Vizcaya State Polytechnic College. MS, including Ifugao text and\\nEnglish Translat')\n",
      "(292, 3, 108, 'ion\\n\\nStanyukovich, Maria V. 1981. Epic and ritual among the mountain tribes of the\\nPhilippines. Sovyetskaya Etmografiya, No. 5, pp.72-83 (In Russian). English\\nsummary.\\n\\n\\n\\n1983. Historical typology and ethnocultural ties of the heroic epic of the\\nIfugao, t')\n",
      "(293, 3, 109, 'he Philippines. Ph.D. Thesis Ms. Leningrad. 207 pp. (In Russian)\\n\\n1983b. Upon the connection of the Ifugao epic tradition with agricultural\\npractices: the term “hudhud”. — In: I..-Krupnik, V.A. Popov, eds. Interaction of\\nsocial and ethnic features in the ')\n",
      "(294, 3, 110, 'modern and traditional culture. IE, Moscow,\\npp.123-134(n Russian)\\n\\n1994. Transforming violence: headhunting and the women’s epics among the\\nIfugao. In: V. Shnirelman, L. Ellana, eds. Proceedings of the 7th International\\nConference on Hunting and Gathering')\n",
      "(295, 3, 111, ' Societies. Moscow, p. 644-656. (In English)\\n\\n1996. Group-identification through hudhud singing in various areas of the\\nIfugao. III European Conference of Philippine Studies. Conference book. Aix-en-\\nProvence, France. 2 p. (In English)+ Ms 18 pp.\\n\\n1997a. ')\n",
      "(296, 3, 112, 'Headhunting among the Ifugao: practice and ritual (upon the sources\\nof the early 20th c.) In: E. Revunenkova, N. Butinov, eds. Anthropology, History\\nand Culture of the Countries of Southern Seas. MAE Publication, St.Petersburg,\\np.141-151 (n Russian)\\n\\n1997')\n",
      "(297, 3, 113, 'b. Kadaklan - The Big River in Ifugao Epics and Mythology (the\\nPhilippines). In: V. Dyachenko, L. Pavlinskaya, eds. Nature and Civilization.\\nRivers and cultures. European House Publishers, St.Petersburg, p. 45-49 (in\\nRussian)\\n\\n1998a. The Shamanism in a Ch')\n",
      "(298, 3, 114, 'ristian State: Philippine Highlanders. In:\\n\"South-East Asia. Russian Papers for a North-Western International (Finish-\\nRussian) Academic Session.” SPb (In English).\\n\\nw onene 1998b. “Paths of the Soul among the Ifugao, the Philippines”. In Conference\\nBook,')\n",
      "(299, 3, 115, ' International Conference “Concepts of Humans and Behavior Patterns in\\nthe Cultures of the East and West: Interdisciplinary Approach”, pp. 53-54.\\nMoscow: State Russian University for Humanities Publications. (In English).\\n\\n1999a. Love Charms and National ')\n",
      "(300, 3, 116, 'Elections: The use of female shamanistic\\nepic heroes/guardian spirits by Ifugao male priests (the Philippines). — In:\\nV.LKharitonova, D.A.Funk, prep. Proceedings of the International Congress\\n“Shamanism and Other Indegenous Spiritual Beliefs and Practices')\n",
      "(301, 3, 117, '” in memoreum\\nof A.V.Anokhin, N.P.Dyrenkova, S.M.Shirokogorov. Ethnological Studies of\\nShamanism and Other Indigenous Spiritual Beliefs and Practices, pt. 3, pp.177-\\n192 (In Russian). English summary - vol. 5, pt 2, pp.270-271\\n\\n\\n\\n- ----1999b. The female v')\n",
      "(302, 3, 118, 'iew of the etiquette of the warrier: the Ifugao hudhud. In:\\nELV. Ivanova, A.M.Reshetov, eds. Etiquette among the peoples of Southeast Asia.\\nMAE RAS, Peterburgskoye Vostokovedenie Publ. House, pp.180-188 (in\\nRussian).\\n\\n2000. “Peacemaking Ideology in a Head')\n",
      "(303, 3, 119, 'hunting Society: Hudhud, Women’s\\nEpic of the Ifugao.” In: Hunters and Gatherers in the Modern World. Conflict,\\nResistance, and Self-Determination. Peter P.Schweitzer, Megan Biesele and Robert\\nHitchcock, eds. pp.399-409. New York-Oxford: Berghahn Books (In')\n",
      "(304, 3, 120, ' English).\\n\\n2002. Philippine Ifugao music instruments from the collections of the\\nMuseum of Anthropology and Ethnography, Russian Academy of Science. In The\\nMusic of Kunstkamera. The Papers of the First Scientific Conference on Musical\\nInstruments.SPb., p')\n",
      "(305, 3, 121, 'p.167-175 (in Russian). English summary pp. 256-257\\n\\n2003a. The living epics and shamanism: the issues of anthropological study\\nof Asian traditions. — Russian Anthropological Studies. Yesterday, Today,\\nTomorrow. Proceedings of the International Conference')\n",
      "(306, 3, 122, ', March 2003, Saint\\nPetersburg, Museum of Anthropology and Ethnography, Russian Academy of\\nScience. Issue 1, pp174-185 (In Russian) ; English summary pp.330-301.\\n\\n2003b. The Wording of Gender: Ifugao Women’s Epics and Male Ritual\\nPerformances. In: A.K. Og')\n",
      "(307, 3, 123, 'loblin et al, eds. Languages and Literature of\\n\\nNusantara. State University of Saint Petersburg, Faculty of Oriental Studies.\\nAcademic session 24-25 April 2003 (Indonesia, Malaysia, the Philippines, East\\nTimor) pp 68-73 (in English).\\n\\n2003c. A living sham')\n",
      "(308, 3, 124, 'anistic oral tradition: Ifugao hudhud — In: the Oral\\nTradition Journal, vol.18 # 2, pp. 249-251. Center for Studies in Oral Tradition\\n(CSOT), University of Missouri-Columbia (In English).\\n\\n2004 \"Aliguyon nak Binenwahen\" in the context of Ifugao Hudhud epi')\n",
      "(309, 3, 125, 'cs.\\nIn: Changing Landscapes, Humanscapes, and Mindscapes in a Globalizing World.\\nSeventh International Conference on Philippine Studies. 16-19 June 2004.\\nProgramme & Book of Abstracts. Leiden, the Netherlands, p.88 (In English)\\n\\n2005 Philippine Epics - Ru')\n",
      "(310, 3, 126, 'ssian and American Studies\\\\\\\\ Russian-\\nAmerican Links. Similar Issues - Different Visions. 2005, SPb. P. 14 (in English\\nand in Russian)\\n\\nin press The Female View of Male World: the Ifugao Hudhud. Oriental\\nLiterature Publ. House, Moscow, 2006. 247 pp. (In R')\n",
      "(311, 3, 127, 'ussian)\\n\\n\\n\\nin press The symbolism of betel chewing in Philippine epics, mithology and\\nritual. Anthropological Forum # 5, SPb, 15+15 pp. in Russian and in English)\\n\\nin press \"Aliguyon nak Binenwahen\" in the context of Ifugao Hudhud\\nepics. \\\\\\\\Languages and c')\n",
      "(312, 3, 128, 'ultures of Austranesians and their neighbours. Festshrift to\\nElena V. Revunenkova and Alexandr K. Ogloblin. SPb. Maria Stanyukovich, ed.\\n15 p. (In Russian)\\n\\nForthcoming. Epic Singers and Shamans, the Philippines and Central Asia.\\nKeynote speech at the Wor')\n",
      "(313, 3, 129, 'kshop on Heritage and Preservation in Southeast Asia.\\nApril 18-19, 2002. Center for Southeast Asian Studies. University of Hawai’i,\\nManoa. 18 pp. (In English)\\n\\nVillaverde, Juan 1912. Supersticiones de los Igorrotes Ifugaos. El Correo Sino-\\n\\nAnnamita, vol ')\n",
      "(314, 3, 130, '38, pp.281-455\\n\\n\\n\\n\\n')\n"
     ]
    }
   ],
   "source": [
    "# Execute a SELECT query\n",
    "query = \"SELECT * FROM chunks\"\n",
    "mycursor.execute(query)\n",
    "\n",
    "# Fetch all rows\n",
    "rows = mycursor.fetchall()\n",
    "\n",
    "# Print the results\n",
    "for row in rows:\n",
    "    print(row)  # You can format this output as needed"
   ]
  },
  {
   "cell_type": "markdown",
   "metadata": {},
   "source": [
    "# Generate a dictionary from the paper\n",
    "As of 09/06/2024, the chatbot model uses the dictionary data type to look up information,\n",
    "so here I try to query the database and turn the paper we saved into a dictionary"
   ]
  },
  {
   "cell_type": "code",
   "execution_count": 17,
   "metadata": {},
   "outputs": [],
   "source": [
    "# Execute a query to select all the rows from the 'papers' table\n",
    "query = \"SELECT title, author, chunk FROM papers\"\n",
    "mycursor.execute(query)\n",
    "\n",
    "# Fetch all the rows\n",
    "rows = mycursor.fetchall()\n",
    "\n",
    "# Create a dictionary with the format you specified\n",
    "paper = {\n",
    "    \"title\": rows[0][0],\n",
    "    \"author\": rows[0][1],\n",
    "    \"content\": ''.join(row[2] for row in rows)\n",
    "}"
   ]
  },
  {
   "cell_type": "markdown",
   "metadata": {},
   "source": [
    "# Check our output\n",
    "We verify if the paper has indeed been loaded into a dictionary"
   ]
  },
  {
   "cell_type": "code",
   "execution_count": 18,
   "metadata": {},
   "outputs": [
    {
     "name": "stdout",
     "output_type": "stream",
     "text": [
      "{'title': 'A CASE STUDY OF UNDERSTANDING THE BONAPARTE BASIN USING UNSTRUCTURED DATA ANALYSIS WITH MACHINE LEARNING TECHNIQUES', 'author': 'A.N.N. Sazali, N.M. Hernandez, F. Baillard, K.G. Maver', 'content': \"\\nA CASE STUDY OF UNDERSTANDING THE\\n\\nBONAPARTE BASIN USING UNSTRUCTURED DATA\\nANALYSIS WITH MACHINE LEARNING TECHNIQUES\\n\\nANN. Sazali!, N.M. Hernandez', F. Baillard', K.G. Maver!\\n\\n' Traya Energies\\n\\nSummary\\n\\nAs part of exploration and production the oil and gas industry produce substantial amounts of data\\nwithin different disciplines of which 80% are unstructured like reports, presentations, spreadsheets etc.\\nThe value of technical work is reduced due to the lack of time available for analysis and critical\\nthinking and the under-utilization of the data. To assist geoscientist and engineers, Machine Learning\\n(ML) and Artificial Intelligence (AI) technologies are applied to process the unstructured data from\\n440 wells from the Bonaparte Basin in Australia making it possible to perform more accurate analysis\\nand make faster decisions.\\n\\nBased on the play-based exploration pyramid concept, the time spent at the Basin Focus stage can be\\nreduced, and more time are available to focus on the other project stages. The explorationist will be\\nable to bring more value to the study.\\n\\nIt will be shown that potential issues encountered during exploration of the Bonaparte Basin can be\\nidentified. Based on a quick look and gathering of all information it can be concluded that most of the\\nproduction in the Bonaparte Basin is from Jurassic and Triassic with observed net pay of 18-60m\\nthickness, porosity of 11-29% and saturation of 11-55% Sw.\\n\\n\\nA Case Study of Understanding the Bonaparte Basin using Unstructured Data Analysis with\\nMachine Learning Techniques\\n\\nIntroduction\\n\\nAs part of exploration and production the oil and gas industry produce substantial amounts of data\\nwithin different disciplines of which 80% are unstructured like reports, presentations, spreadsheets etc\\nand it is expected to grow exponentially. As a result, geoscientists and engineers spend 50 to 80% of\\ntheir time searching and assembling data and only 1 to 5% of the data is fully utilized. The value of\\ntechnical work is therefore reduced due to the lack of time available for analysis and critical thinking\\nand the under-utilization of the data. To assist geoscientist and engineers, Machine Learning (ML)\\nand Artificial Intelligence (AI) technologies are applied to process the unstructured data making it\\npossible to perform more accurate analysis and make faster decisions.\\n\\nIn this case study the area of interest covers Bonaparte Basin, which is located north-west of\\nthe Australian continental margin (Figure 1). It joins the Money Shoal basin in the north-east and\\nthe Browse Basin in the south-west. Furthermore, the Timor Trough defines the northern boundary.\\nThe areal extent of the basin is approximately 270,000 sq. km. The objective of this study is to\\nunderstand and obtain meaningful insights into the Bonaparte Basin based on the substantial amount\\nof information available in previous studies, reports and presentations. The unstructured data of the\\nBonaparte Basin have been ingested in a Knowledge Container through consecutive ML and AI\\npipelines and analysed using big data analytics tools.\\n\\nJava Sea\\n\\nConsist of several structural elements :\\n@ Ashmore Platform  Malita Graben\\n Vulcan Sub-Basin  Sahul Platform\\n Londonderry High @ Flamingo High\\n Petrel Sub-basin @ Flamingo Syncline\\n Darwin Shelf  Sahul Syncline\\n@ Calder Graben  Nancar Trough\\n@ Troubadour Terrace  @)_ Laminaria High\\n\\nFigure 1 Location of the Bonaparte Basin within the Australian continental margin (left) and 14\\nstructural elements observed within the Bonaparte Basin (right).\\n\\nMethodology\\n\\nAs of 2021, the Bonaparte Basin encompasses 440 wells representing 58 years of exploration history\\nsummarized in over 270,000 pages of documents and in 250,000 images. It is estimated that billions of\\ndollars have been invested over the years to acquire and interprete the data, making it a substantial\\nsource of information for new exploration activities.\\n\\nThe Play Based Exploration (PBE) approach is often used as a traditional framework to refine the\\ngeoscientistss understanding from a broad basin level to a narrow prospect focus (Lottaroli et al., 2016).\\nAs a start such an approach often involves capturing the current state of knowledge with massive\\nbackground resources to understand and analyse the key features of the basin and the major risks\\nassociated to it. Such information is primarily available in unstructured data, requiring geoscientist and\\nengineers to process and ingest the information before focusing on a specific play and prospect using\\nstructured data. Therefore, we have modified the existing PBE pyramid to introduce an additional\\n\\n  \\n\\n\\ndimension associated with data science identifying the different types of data available at different\\nstages, allowing us to better define the best suited ML/AI strategy for a given stage (Figure 2).\\n\\nProspect Specific chance\\n\\nProspect focus\\n= image, Map, Evaluate\\n\\nSTRUCTURED chance that a panicular prospect will\\nbecome\\na discovery in case play works.\\n\\nPlay Focus\\n\\n' Play Chance\\n1 Identity imits ofthe single play elements 1 the chance hat a parteuler play\\nunsracres: Al eee wean | gy mesnereamecercett\\n\\\\ dbcare te 1 elements (e.g. reservoir, seal, source)\\neffectiveness of each element | of being present and effective over an\\n\\n(Commmon Risk Segment Mapping)\\n\\n@ Analyse play statistics. Seon Gey O44 a\\n\\nDetermination and description of the\\nRegional context and Basin\\nFramework\\nUnderstanding of the Petroleum\\nsystem(s)\\n\\nBasin Focus\\n\\n= Assess the possibility a play may\\nexists in a basin\\n\\nFigure 2 Customized Play Based Exploration (PBE) pyramid with ML technology (Modified from\\nLottaroli et al., 2016).\\n\\nFocusing on the unstructured data associated with the Basin and Play Analysis, all the data from the\\nBonaparte Basin have been processed through a succession of AI/ML automated pipeline such as\\nNatural Language Processing or Deep Convolutional Neural Network (Hernandez et al., 2019), (Figure\\n3). The sharable structured data is then further processed through deeper level of analytics to detect\\ntrends and anomalies present within the data. Machine assistance is heavily used in repetitive tasks early\\nin the process during the processing of the data and up to 95% of the tasks will be performed by the\\nmachine. This provides additional time for the specialist to focus on critical thinking and cognitive skills\\nto interpret the data.\\n\\nMACHINE LEARNING PIPELINE ANALYTICS, GEOLOGICAL INSIGHTS\\n\\n-inniogy an Early interpretation on\\nGeological environment\\n\\n* Text Search Data are geospatially\\n\\nExtracted image ea\\n+ Imoges. ~~ Image Classification  > nae |, distributed on maps for\\nDeep Convolutional ee trends and anomalies\\nUnstructured pecker hom Giants\\n Structured * Image Search\\nData ee\\na\\n\\n|, Extracted | Metadata Extraction |, Document\\nText and Tagging Tags\\n\\nNotural tanguage Processing\\n\\n._ Early trend can be observed\\n\\n> Heat Mi in\\nea MEe across the whole basin\\n\\n._ Identify well analogues and\\n\\nHEE oe relationship between wells\\n\\nMACHINE 4 on =\\n\\nAf. 50.%5 . i 60% 0%\\n\\nML/Al sequence automated with Analytics tools for data display Human high-level interpretation\\nhuman in the loop for QC\\n\\nFigure 3 Unstructured Big Data pipeline\\n\\nIn this case study, interpretation using the Big Data workflow was used to understand the exploration\\nhistory, how the basin developed, its petroleum system and the main issue of the dry wells occurrence\\nto avoid repeating the mistakes of the past and improve future decision making.\\n\\n\\n\\nBy analysing the data, five potential issues are identified i.e. (i) Discrepancies in Formation Tops, (ii)\\nLimited understanding of Lithology Distribution, (iii) Limited Mineral Composition Understanding,\\n(iv) Fluid Distribution, and (v) Pressure/Temperature Patterns. Each potential issue is tackled by\\nidentifying trends and anomalies across the basin using images, tables and plots extracted from the\\nunstructured data corpus.\\n\\nResults\\n\\nAs an example, the analysis of the (ii) Limited Understanding of Lithology Distribution, shown in\\nFigure 4, is performed using heatmaps. The heatmaps show the distribution of clastic and carbonates\\nacross the Bonaparte Basin and identify patterns and anomalies present in the area. The result can be\\nsupported by the stratigraphic chart where the carbonate environment occurs in the younger formation\\nfrom Cretaceous to Neogene period, whereas clastic environment is present in the older formations from\\nTriassic to Cretaceous.\\n\\nNe\\n\\nPALEOGENE\\neae\\n\\nEa\\n\\nCRETACEOUS\\n\\n$3233 3 3\\nJURASSIC\\n\\ntoy | Mee\\n\\nTing 5\\nwo\\n\\nBasal transgressive snadstone EEEEEE Limestone\\n\\nand marine shelf sand\\nMarine claystone and shale ES van\\n\\nModitied trom Frankowicz & McClay 2009\\n\\nFigure 4 Lithology distribution on heatmaps (left) and corresponding stratigraphic chart (right).\\n\\nThe analysis of the (iii) Limited Mineral Composition Understanding, shown in Figure 5, utilizes the\\nthin section automatically extracted using ML classification over the full area and suggests that:\\n\\n Quartz overgrowth and kaolinite are quite common in Bonaparte Basin\\n\\ne Mica mineral can be observed at the north-eastern part of the basin\\n\\ne Highly corroded, skeletal feldspar has been extensively dissolved, which forms secondary\\nporosity, and can be observed in the northern part of the basin\\n\\ne Some patchy siderites are also observed in the southern part of the basin\\n\\n  \\n\\n\\nFigure 5 Thin section images distributed on a map across the Bonaparte Basin.\\n\\nConclusion\\n\\nA regional understanding is critical and time consuming as it involves dealing with a very large data\\nvolume. Within a project time frame, based on PBE pyramid, the time spent at the Basin Focus stage\\ncan be reduced, and more time are available to focus on the other project stages. The explorationist will\\nbe able to bring more value to the study.\\n\\nML applications have proven to be able to play a crucial part in order to organize large unstructured\\ndata corpuses. This allows faster and accurate decision making within the fast-moving industry.\\n\\nIn this study, some potential issues encountered during exploration of the Bonaparte Basin can be\\nidentified. Based on a quick look and gathering of all information it can be concluded that most of the\\nproduction in the Bonaparte Basin is from Jurassic and Triassic with observed net pay ~18-60m\\nthickness, porosity ~11-29% and saturation ~11-55% Sw.\\n\\nReferences\\n\\nHernandez N., Lucafias P., Graciosa J.C., Mamador C., and Panganiban L. C. L, 2019: Automated\\ninformation retrieval from unstructured documents utilizing a sequence of smart machine learning\\nmethods within a hybrid cloud container. EAGE Workshop on Big Data and Machine Learning for E&P\\nEfficiency 25 - 27 February.\\n\\nLottaroli F., Craig J., Cozzi A., 2016: Evaluating a vintage play fairway exercise using subsequent\\nexploration results: did it work? Petroleum Geoscience, Vol 24, no 2, p. 159-171.\\n\\nMaver K.G., Hernandez N., Lucafias P., Graciosa J.C., Mamador C., Panganiban L.C.I., Yu C., and\\nMaver M.G., 2018: An automated information retrieval platform for unstructured well data smart\\nmachine learning algorithms within a hybrid cloud container. EAGE/PESGB Workshop on Machine\\nLearning, 29  30 November.\\n\\n\\n\"}\n"
     ]
    }
   ],
   "source": [
    "# Print the paper\n",
    "print(paper)"
   ]
  }
 ],
 "metadata": {
  "kernelspec": {
   "display_name": "streamlit",
   "language": "python",
   "name": "python3"
  },
  "language_info": {
   "codemirror_mode": {
    "name": "ipython",
    "version": 3
   },
   "file_extension": ".py",
   "mimetype": "text/x-python",
   "name": "python",
   "nbconvert_exporter": "python",
   "pygments_lexer": "ipython3",
   "version": "3.12.1"
  }
 },
 "nbformat": 4,
 "nbformat_minor": 2
}
