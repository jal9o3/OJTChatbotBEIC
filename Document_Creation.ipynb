{
 "cells": [
  {
   "cell_type": "code",
   "outputs": [],
   "source": [],
   "metadata": {
    "collapsed": false
   },
   "id": "3cf3aee6bdb260e5"
  },
  {
   "cell_type": "code",
   "execution_count": 1,
   "id": "initial_id",
   "metadata": {
    "collapsed": true,
    "ExecuteTime": {
     "end_time": "2024-07-09T07:10:58.268921400Z",
     "start_time": "2024-07-09T07:10:58.196765600Z"
    }
   },
   "outputs": [],
   "source": [
    "import psycopg2"
   ]
  },
  {
   "cell_type": "code",
   "outputs": [],
   "source": [
    "conn = psycopg2.connect(\n",
    "        dbname='knowledge_base',\n",
    "        user='postgres',\n",
    "        password='password',\n",
    "        host='localhost',\n",
    "        port=5432\n",
    "    )\n",
    "cur = conn.cursor()"
   ],
   "metadata": {
    "collapsed": false,
    "ExecuteTime": {
     "end_time": "2024-07-09T07:10:58.311814700Z",
     "start_time": "2024-07-09T07:10:58.264390800Z"
    }
   },
   "id": "726a562d5ed71387",
   "execution_count": 2
  },
  {
   "cell_type": "code",
   "outputs": [],
   "source": [
    "cur.execute(\"SELECT * FROM paper_titles;\")"
   ],
   "metadata": {
    "collapsed": false,
    "ExecuteTime": {
     "end_time": "2024-07-09T07:11:05.364381700Z",
     "start_time": "2024-07-09T07:11:05.241073300Z"
    }
   },
   "id": "d2c0d48a91c32276",
   "execution_count": 3
  },
  {
   "cell_type": "code",
   "outputs": [],
   "source": [
    "hello = cur.fetchall()"
   ],
   "metadata": {
    "collapsed": false,
    "ExecuteTime": {
     "end_time": "2024-07-09T07:11:11.508771300Z",
     "start_time": "2024-07-09T07:11:11.452761600Z"
    }
   },
   "id": "39d1d15a1e2a589",
   "execution_count": 4
  },
  {
   "cell_type": "code",
   "outputs": [
    {
     "name": "stdout",
     "output_type": "stream",
     "text": [
      "[('c5c0a2cd540d43eb6c442963fb9e7b2b139df80aea9c73211085b4ecbe82177a', 'War of the Worlds', ['H.G. Wells'], 'War of the Worlds.pdf', ['Science Fiction', '1800s']), ('8c941b1518412bff0d533886d431b90fa0fb36f51275d2f0d145ab17cb94e740', 'Automated Information Retrieval', ['N.M Hernandez', 'P.J. Lucafias', 'J.C. Graciosa'], 'Automated_Info_Retrieval.pdf', ['Machine Learning', 'Iraya', 'Documents']), ('d1df5e57a8004a06ef4324a45d48d9574e00034425a7ce3397ce769a4937cc11', 'A Case Study of Understanding the Bonaparte Basin', ['A.N.Sazali', 'N.M. Hernandez', 'F. Baillard', 'K.G. Maver'], 'Bonaparte_Paper.pdf', ['Case Study', 'Machine Learning', 'Iraya', 'Documents', 'Geology'])]\n"
     ]
    }
   ],
   "source": [
    "print(hello)"
   ],
   "metadata": {
    "collapsed": false,
    "ExecuteTime": {
     "end_time": "2024-07-09T07:11:12.525894500Z",
     "start_time": "2024-07-09T07:11:12.514098600Z"
    }
   },
   "id": "5b945bc8d8307acf",
   "execution_count": 5
  },
  {
   "cell_type": "code",
   "outputs": [],
   "source": [],
   "metadata": {
    "collapsed": false
   },
   "id": "76acdd53300fcda6"
  }
 ],
 "metadata": {
  "kernelspec": {
   "display_name": "Python 3",
   "language": "python",
   "name": "python3"
  },
  "language_info": {
   "codemirror_mode": {
    "name": "ipython",
    "version": 2
   },
   "file_extension": ".py",
   "mimetype": "text/x-python",
   "name": "python",
   "nbconvert_exporter": "python",
   "pygments_lexer": "ipython2",
   "version": "2.7.6"
  }
 },
 "nbformat": 4,
 "nbformat_minor": 5
}
