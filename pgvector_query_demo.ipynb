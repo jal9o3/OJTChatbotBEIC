{
 "cells": [
  {
   "cell_type": "code",
   "execution_count": 1,
   "metadata": {},
   "outputs": [],
   "source": [
    "import psycopg2"
   ]
  },
  {
   "cell_type": "code",
   "execution_count": 2,
   "metadata": {},
   "outputs": [
    {
     "name": "stdout",
     "output_type": "stream",
     "text": [
      "WARNING:tensorflow:From c:\\Users\\lenovo\\anaconda3\\envs\\pinecone\\Lib\\site-packages\\tf_keras\\src\\losses.py:2976: The name tf.losses.sparse_softmax_cross_entropy is deprecated. Please use tf.compat.v1.losses.sparse_softmax_cross_entropy instead.\n",
      "\n"
     ]
    },
    {
     "name": "stderr",
     "output_type": "stream",
     "text": [
      "c:\\Users\\lenovo\\anaconda3\\envs\\pinecone\\Lib\\site-packages\\sentence_transformers\\cross_encoder\\CrossEncoder.py:11: TqdmWarning: IProgress not found. Please update jupyter and ipywidgets. See https://ipywidgets.readthedocs.io/en/stable/user_install.html\n",
      "  from tqdm.autonotebook import tqdm, trange\n"
     ]
    }
   ],
   "source": [
    "from constants import PGDB_PASS\n",
    "from vector_management import get_MiniLM_embedding"
   ]
  },
  {
   "cell_type": "code",
   "execution_count": 3,
   "metadata": {},
   "outputs": [],
   "source": [
    "conn = psycopg2.connect(\n",
    "            dbname='knowledge_base',\n",
    "            user='postgres',\n",
    "            password=PGDB_PASS,\n",
    "            host='localhost',\n",
    "            port=5432\n",
    "        )\n",
    "cur = conn.cursor()"
   ]
  },
  {
   "cell_type": "code",
   "execution_count": 4,
   "metadata": {},
   "outputs": [],
   "source": [
    "query_embedding = get_MiniLM_embedding(\"What's the Bonaparte Paper?\")"
   ]
  },
  {
   "cell_type": "code",
   "execution_count": 5,
   "metadata": {},
   "outputs": [],
   "source": [
    " # See paper titles in database\n",
    "cur.execute(f\"SELECT * FROM paper_titles;\")\n",
    "query_results = cur.fetchall()"
   ]
  },
  {
   "cell_type": "code",
   "execution_count": 6,
   "metadata": {},
   "outputs": [
    {
     "name": "stdout",
     "output_type": "stream",
     "text": [
      "('8c941b1518412bff0d533886d431b90fa0fb36f51275d2f0d145ab17cb94e740', 'Automated Information Retrieval', ['N.M Hernandez', 'P.J. Lucafias', 'J.C. Graciosa'], 'C:\\\\Users\\\\lenovo\\\\Desktop\\\\OJTChatbotBEIC\\\\test_papers\\\\Automated_Info_Retrieval.txt', ['Machine Learning', 'Iraya', 'Documents'])\n",
      "('d1df5e57a8004a06ef4324a45d48d9574e00034425a7ce3397ce769a4937cc11', 'A Case Study of Understanding the Bonaparte Basin', ['A.N.Sazali', 'N.M. Hernandez', 'F. Baillard', 'K.G. Maver'], 'C:\\\\Users\\\\lenovo\\\\Desktop\\\\OJTChatbotBEIC\\\\test_papers\\\\Bonaparte_Paper.txt', ['Case Study', 'Machine Learning', 'Iraya', 'Documents', 'Geology'])\n",
      "('f8f1e133b9e1080b74252ffc72299d997aa3c0520d051d37e6d9b05ef62f5eb6', 'Sustainable Data Mining', ['T. Looi', 'N.E. Arif', 'N.M. Hernandez', 'F. Baillard'], 'C:\\\\Users\\\\lenovo\\\\Desktop\\\\OJTChatbotBEIC\\\\test_papers\\\\Sustainable_data_mining.txt', ['Data Mining', 'Oil', 'Gas', 'Iraya', 'Documents'])\n"
     ]
    }
   ],
   "source": [
    "for result in query_results:\n",
    "    print(result)"
   ]
  },
  {
   "cell_type": "code",
   "execution_count": 7,
   "metadata": {},
   "outputs": [],
   "source": [
    " # Use L1 distance to query vectors \n",
    "cur.execute(f\"\"\"\n",
    "            SELECT * FROM chunks \n",
    "            ORDER BY embedding <+> '{query_embedding.tolist()}' \n",
    "            LIMIT 5;\n",
    "            \"\"\")\n",
    "query_results = cur.fetchall()"
   ]
  },
  {
   "cell_type": "code",
   "execution_count": 8,
   "metadata": {},
   "outputs": [
    {
     "name": "stdout",
     "output_type": "stream",
     "text": [
      "RESULT 1: \n",
      "The objective of this study is to\n",
      "understand and obtain meaningful insights into the Bonaparte Basin based on the substantial amount\n",
      "of information available in previous studies, reports and presentations\n",
      "\n",
      "RESULT 2: \n",
      "Methodology\n",
      "\n",
      "As of 2021, the Bonaparte Basin encompasses 440 wells representing 58 years of exploration history\n",
      "summarized in over 270,000 pages of documents and in 250,000 images\n",
      "\n",
      "RESULT 3: \n",
      "The heatmaps show the distribution of clastic and carbonates\n",
      "across the Bonaparte Basin and identify patterns and anomalies present in the area\n",
      "\n",
      "RESULT 4: \n",
      "In this case study the area of interest covers Bonaparte Basin, which is located north-west of\n",
      "the Australian continental margin (Figure 1)\n",
      "\n",
      "RESULT 5: \n",
      "Based on a quick look and gathering of all information it can be concluded that most of the\n",
      "production in the Bonaparte Basin is from Jurassic and Triassic with observed net pay ~18-60m\n",
      "thickness, porosity ~11-29% and saturation ~11-55% Sw\n",
      "\n"
     ]
    }
   ],
   "source": [
    "for i, query_result in enumerate(query_results):\n",
    "    print(f\"RESULT {i+1}: \\n{query_result[1].strip()}\\n\")"
   ]
  },
  {
   "cell_type": "code",
   "execution_count": 9,
   "metadata": {},
   "outputs": [],
   "source": [
    "cur.close()\n",
    "conn.close()"
   ]
  }
 ],
 "metadata": {
  "kernelspec": {
   "display_name": "pinecone",
   "language": "python",
   "name": "python3"
  },
  "language_info": {
   "codemirror_mode": {
    "name": "ipython",
    "version": 3
   },
   "file_extension": ".py",
   "mimetype": "text/x-python",
   "name": "python",
   "nbconvert_exporter": "python",
   "pygments_lexer": "ipython3",
   "version": "3.12.4"
  }
 },
 "nbformat": 4,
 "nbformat_minor": 2
}
