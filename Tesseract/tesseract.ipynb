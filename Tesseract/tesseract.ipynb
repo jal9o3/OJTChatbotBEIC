{
 "cells": [
  {
   "cell_type": "markdown",
   "metadata": {},
   "source": [
    "Import Dependencies"
   ]
  },
  {
   "cell_type": "code",
   "execution_count": null,
   "metadata": {},
   "outputs": [],
   "source": [
    "import pytesseract\n",
    "from pdf2image import convert_from_path\n",
    "import os\n",
    "from PIL import Image"
   ]
  },
  {
   "cell_type": "markdown",
   "metadata": {},
   "source": [
    "Data Cleaning"
   ]
  },
  {
   "cell_type": "code",
   "execution_count": null,
   "metadata": {},
   "outputs": [],
   "source": [
    "def remove_images(page_image):\n",
    "    # Convert the image to grayscale\n",
    "    gray_image = page_image.convert('L')\n",
    "\n",
    "    # Perform thresholding to convert grayscale image to binary (black and white)\n",
    "    binary_image = gray_image.point(lambda pixel: 255 if pixel > 200 else 0, '1')\n",
    "\n",
    "    # Invert the binary image (so that text becomes white on black background)\n",
    "    inverted_image = Image.eval(binary_image, lambda pixel: 255 - pixel)\n",
    "\n",
    "    return inverted_image"
   ]
  },
  {
   "cell_type": "markdown",
   "metadata": {},
   "source": [
    "Text Convertion"
   ]
  },
  {
   "cell_type": "code",
   "execution_count": null,
   "metadata": {},
   "outputs": [],
   "source": [
    "def pdf_to_text(pdf_path, file_path):\n",
    "\n",
    "    pages = convert_from_path(pdf_path) #Convert PDF pages to images\n",
    "\n",
    "    #Iterate through each page image and perform OCR\n",
    "    for page_number, page_image in enumerate(pages, start=1):\n",
    "        width, height = page_image.size\n",
    "        \n",
    "        #crop header and footnote\n",
    "        top_crop = int(0.05 * height)\n",
    "        bottom_crop = int(0.95 * height)\n",
    "        cropped_image = page_image.crop((0, top_crop, width, bottom_crop))\n",
    "        \n",
    "        # Remove images from the page\n",
    "        text_image = remove_images(cropped_image)\n",
    "\n",
    "        #Perform OCR on the page image\n",
    "        text = pytesseract.image_to_string(text_image)\n",
    "\n",
    "        with open(file_path, 'a') as f: #Append extracted text to the file\n",
    "            f.write(f\"\\n{text}\\n\")"
   ]
  },
  {
   "cell_type": "markdown",
   "metadata": {},
   "source": [
    "Main"
   ]
  },
  {
   "cell_type": "code",
   "execution_count": null,
   "metadata": {},
   "outputs": [],
   "source": [
    "if __name__ == \"__main__\":\n",
    "\n",
    "    directory_path = input(\"Enter folder containing PDF files: \") #Specify pdf file directory\n",
    "    \n",
    "    #Create new directory for the output files\n",
    "    new_directory = \"output_text\"\n",
    "    output_directory = os.path.join(directory_path, new_directory)\n",
    "    try: #Creates a new file\n",
    "        os.mkdir(output_directory)\n",
    "    except FileExistsError: #notify if the directory already exist\n",
    "        print(f\"The directory '{output_directory}' already exists.\")\n",
    "    \n",
    "    for file_name in os.listdir(directory_path): #iterate for each file in the directory\n",
    "        if file_name.endswith(\".pdf\"): #Check if the file is a pdf\n",
    "            pdf_path = os.path.join(directory_path, file_name) #Specify path to the PDF file\n",
    "\n",
    "            output_file_name = os.path.splitext(file_name)[0] + \".txt\" #Specify output file name\n",
    "            output_file_path = os.path.join(output_directory, output_file_name) #Creates file path\n",
    "\n",
    "            try: #Creates a new file\n",
    "                with open(output_file_path, 'x', encoding='utf-8')as f:\n",
    "                    f.close()\n",
    "            except FileExistsError: #If file already exist, write over existing file rendering its contents null\n",
    "                with open(output_file_path, 'w', encoding='utf-8')as f:\n",
    "                    f.close()\n",
    "\n",
    "            # Extract text from the PDF\n",
    "            pdf_to_text(pdf_path, output_file_path)\n",
    "\n",
    "            print(\"Saved as \" + output_file_name + \" at \" + output_file_path)\n",
    "    print(\"Extraction Complete\")"
   ]
  }
 ],
 "metadata": {
  "language_info": {
   "name": "python"
  }
 },
 "nbformat": 4,
 "nbformat_minor": 2
}
